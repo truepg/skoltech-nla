{
 "cells": [
  {
   "cell_type": "code",
   "execution_count": 2,
   "metadata": {},
   "outputs": [],
   "source": [
    "import numpy as np\n",
    "from tqdm.notebook import tqdm\n",
    "import matplotlib.pyplot as plt"
   ]
  },
  {
   "cell_type": "markdown",
   "metadata": {},
   "source": [
    "# Problem set 3 (90 pts)\n",
    "\n",
    "## Important note: the template for your solution filename is Name_Surname_PS3.ipynb"
   ]
  },
  {
   "cell_type": "markdown",
   "metadata": {},
   "source": [
    "## Problem 1 (25 pts)\n",
    "\n",
    "- (5 pts) Prove that $\\mathrm{vec}(AXB) = (B^\\top \\otimes A)\\, \\mathrm{vec}(X)$ if $\\mathrm{vec}(X)$ is a columnwise reshape of a matrix into a long vector. What does it change if the reshape is rowwise? \n",
    "\n",
    "**Note:** To make a columnwise reshape in Python one should use ```np.reshape(X, order='f')```, where the string ```'f'``` stands for the Fortran ordering. \n",
    "\n",
    "- (2 pts) What is the complexity of a naive computation of $(A \\otimes B) x$? Show how it can be reduced.\n",
    "\n",
    "- (3 pts) Let matrices $A$ and $B$ have eigendecompositions $A = S_A\\Lambda_A S_A^{-1}$ and $B = S_B\\Lambda_B S^{-1}_B$. Find eigenvectors and eigenvalues of the matrix $A\\otimes I + I \\otimes B$, where dimension of $I$ coincides with the dimension of $A$ and $B$.\n",
    "\n",
    "\n",
    "- (10 pts) Let $A = \\mathrm{diag}\\left(\\frac{1}{1000},\\frac{2}{1000},\\dots \\frac{999}{1000}, 1, 1000 \\right)$. Estimate analytically the number of iterations required  to solve linear system with $A$ with the relative accuracy $10^{-4}$ using\n",
    "    - Richardson iteration with the optimal choice of parameter (use $2$-norm)\n",
    "    - Chebyshev iteration (use $2$-norm)\n",
    "    - Conjugate gradient method (use $A$-norm).\n",
    "    \n",
    "- (5 pts) Provide numerical confirmation of your estimate from theoretical point of view"
   ]
  },
  {
   "cell_type": "markdown",
   "metadata": {},
   "source": [
    "### 1.1"
   ]
  },
  {
   "cell_type": "markdown",
   "metadata": {},
   "source": [
    "0. $A_{m \\times n}, X_{n \\times p}, B_{p \\times q}$\n",
    "\n",
    "1. Consider the $k^{th}$ column of $AXB$:\n",
    "\n",
    "$(AXB)_k = A\n",
    "\\begin{pmatrix}\n",
    "\\sum_{i=1}^p{x_{1i}b_{ik}} \\\\\n",
    "\\sum_{i=1}^p{x_{2i}b_{ik}} \\\\\n",
    "\\vdots  \\\\\n",
    "\\sum_{i=1}^p{x_{ni}b_{ik}}\n",
    "\\end{pmatrix} = A[\n",
    "\\begin{pmatrix}\n",
    "x_{11} \\\\\n",
    "x_{21} \\\\\n",
    "\\vdots  \\\\\n",
    "x_{n1}\n",
    "\\end{pmatrix}b_{1k} + \n",
    "\\begin{pmatrix}\n",
    "x_{12} \\\\\n",
    "x_{22} \\\\\n",
    "\\vdots  \\\\\n",
    "x_{n2}\n",
    "\\end{pmatrix}b_{2k} + \\cdots + \n",
    "\\begin{pmatrix}\n",
    "x_{1p} \\\\\n",
    "x_{2p} \\\\\n",
    "\\vdots  \\\\\n",
    "x_{np}\n",
    "\\end{pmatrix}b_{pk}] = \n",
    "b_{1k}A\n",
    "\\begin{pmatrix}\n",
    "x_{11} \\\\\n",
    "x_{21} \\\\\n",
    "\\vdots  \\\\\n",
    "x_{n1}\n",
    "\\end{pmatrix} + \n",
    "b_{2k}A\n",
    "\\begin{pmatrix}\n",
    "x_{12} \\\\\n",
    "x_{22} \\\\\n",
    "\\vdots  \\\\\n",
    "x_{n2}\n",
    "\\end{pmatrix} + \\cdots + \n",
    "b_{pk}A\n",
    "\\begin{pmatrix}\n",
    "x_{1p} \\\\\n",
    "x_{2p} \\\\\n",
    "\\vdots  \\\\\n",
    "x_{np}\n",
    "\\end{pmatrix} = [b_{1k}A, b_{2k}A, \\cdots, b_{pk}A] vec(X) = (B_k^T \\otimes A) vec(X)$\n",
    "\n",
    "2. Then $vec(AXB) = \\begin{pmatrix}\n",
    "(B_1^T \\otimes A) \\\\\n",
    "(B_2^T \\otimes A) \\\\\n",
    "\\vdots  \\\\\n",
    "(B_q^T \\otimes A) \n",
    "\\end{pmatrix} vec(X) = (B^T \\otimes A) vec(X)$\n",
    "\n",
    "This equality doesn't work if reshape is rowwise! To compose new equality, we should consider $k_{th}$ row of $AXB$:"
   ]
  },
  {
   "cell_type": "markdown",
   "metadata": {},
   "source": [
    "$(AXB)_k = B^T\n",
    "\\begin{pmatrix}\n",
    "\\sum_{i=1}^n{x_{i1}a_{ki}} \\\\\n",
    "\\sum_{i=1}^n{x_{i2}a_{ki}} \\\\\n",
    "\\vdots  \\\\\n",
    "\\sum_{i=1}^n{x_{ip}a_{ki}}\n",
    "\\end{pmatrix} = B^T [\n",
    "\\begin{pmatrix}\n",
    "x_{11} \\\\\n",
    "x_{12} \\\\\n",
    "\\vdots  \\\\\n",
    "x_{1p}\n",
    "\\end{pmatrix} a_{k1} + \n",
    "\\begin{pmatrix}\n",
    "x_{21} \\\\\n",
    "x_{22} \\\\\n",
    "\\vdots  \\\\\n",
    "x_{2p}\n",
    "\\end{pmatrix} a_{k2} + \\cdots + \n",
    "\\begin{pmatrix}\n",
    "x_{n1} \\\\\n",
    "x_{n2} \\\\\n",
    "\\vdots  \\\\\n",
    "x_{np}\n",
    "\\end{pmatrix} a_{kn}] = B^T\n",
    "\\begin{pmatrix}\n",
    "x_{11} \\\\\n",
    "x_{12} \\\\\n",
    "\\vdots  \\\\\n",
    "x_{1p}\n",
    "\\end{pmatrix} \\space a_{k1} + B^T\n",
    "\\begin{pmatrix}\n",
    "x_{21} \\\\\n",
    "x_{22} \\\\\n",
    "\\vdots  \\\\\n",
    "x_{2p}\n",
    "\\end{pmatrix} \\space a_{k2} + \\cdots + B^T\n",
    "\\begin{pmatrix}\n",
    "x_{p1} \\\\\n",
    "x_{p2} \\\\\n",
    "\\vdots  \\\\\n",
    "x_{pn}\n",
    "\\end{pmatrix} \\space a_{kn} = [a_{k1}B^T, a_{k2}B^T, \\cdots, a_{kn}B^T] vec(X) = (A_k \\otimes B^T) vec(X)$\n",
    "\n",
    "Then $vec(AXB) = (A \\otimes B^T) vec(X)$, but I could make a mistake here, however the main idea is to consider the $k_{th}$ row!"
   ]
  },
  {
   "cell_type": "code",
   "execution_count": 1642,
   "metadata": {},
   "outputs": [
    {
     "name": "stdout",
     "output_type": "stream",
     "text": [
      "(510, 1)\n",
      "(510, 1)\n"
     ]
    },
    {
     "data": {
      "text/plain": [
       "True"
      ]
     },
     "execution_count": 1642,
     "metadata": {},
     "output_type": "execute_result"
    }
   ],
   "source": [
    "m, n, p, q = np.random.randint(1, 50, 4)\n",
    "A = np.random.rand(m, n)\n",
    "X = np.random.rand(n, p)\n",
    "B = np.random.rand(p, q)\n",
    "\n",
    "left = np.reshape(A @ X @ B, [m*q, 1], order='F')\n",
    "print(left.shape)\n",
    "\n",
    "right = np.kron(B.T, A) @ np.reshape(X, [n*p, 1], order='F')\n",
    "print(right.shape)\n",
    "\n",
    "np.allclose(left, right)"
   ]
  },
  {
   "cell_type": "markdown",
   "metadata": {},
   "source": [
    "### 1.2\n",
    "\n",
    "Complexity of naive computation\n",
    "1. Shape of $A$: $m \\times n$, shape of $B$: $p \\times q$\n",
    "\n",
    "2. Shape of $A \\otimes B$: $mp \\times nq$, so complexity of $A \\otimes B$: $O(mpnq)$\n",
    "\n",
    "3. Shape of $x$: $nq \\times 1$, so complexity of naive $(A \\otimes B)x$: $O(mpnq)$\n",
    "\n",
    "How it can be reduced?\n",
    "\n",
    "1. Use the proved equality: $vec(AXB) = (B^T \\otimes A) vec(X)$\n",
    "2. $(A \\otimes B)x = (A \\otimes B)vec(x) = vec(B \\space vec^{-1}(x) \\space A^T)$, where $vec^{-1}$ is an inverse transformation from vector to matrix\n",
    "3. Now our complexity depends on matrix multiplication and it's $O(n^3)$"
   ]
  },
  {
   "cell_type": "markdown",
   "metadata": {},
   "source": [
    "### 1.3"
   ]
  },
  {
   "cell_type": "markdown",
   "metadata": {},
   "source": [
    "Using $(A \\otimes B)(C \\otimes D)= AC \\otimes BD$, $I=S_A S_A^{-1}=S_B S_B^{-1}$ and $(A \\otimes B)^{-1} = A^{-1} \\otimes B^{-1}$, we can get the following:\n",
    "\n",
    "$A \\otimes I + I \\otimes B = S_A\\Lambda_A S_A^{-1} \\otimes I + I \\otimes S_B\\Lambda_B S_B^{-1} = S_A\\Lambda_A S_A^{-1} \\otimes S_B S_B^{-1} + S_A S_A^{-1} \\otimes S_B\\Lambda_B S_B^{-1} = (S_A\\Lambda_A \\otimes S_B + S_A \\otimes S_B \\Lambda_B)(S_A^{-1} \\otimes S_B^{-1}) = (S_A \\otimes S_B)(\\Lambda_A \\otimes I + I \\otimes \\Lambda_B)(S_A^{-1} \\otimes S_B^{-1}) = (S_A \\otimes S_B)(\\Lambda_A \\otimes I + I \\otimes \\Lambda_B)(S_A \\otimes S_B)^{-1}$\n",
    "\n",
    "So, $A \\otimes I + I \\otimes B = (S_A \\otimes S_B)(\\Lambda_A \\otimes I + I \\otimes \\Lambda_B)(S_A \\otimes S_B)^{-1} = S \\Lambda S^{-1}$, where $S = S_A \\otimes S_B$ and $\\Lambda$ is a diagonal matrix => it's eigendecomposition for the matrix $A \\otimes I + I \\otimes B$\n",
    "\n",
    "Then the eigenvectors of the given matrix are the columns in matrix $S = S_A \\otimes S_B$ and the eigenvalues are $\\lambda_A^{i} + \\lambda_B^{j}$ for $1 \\leq i \\leq n, 1 \\leq j \\leq n$"
   ]
  },
  {
   "cell_type": "markdown",
   "metadata": {},
   "source": [
    "### 1.4\n",
    "\n",
    "1. Richardson\n",
    "\n",
    "$q = \\frac{1000 - 0.001}{1000 + 0.001} = \\frac{999999}{1000001}$\n",
    "\n",
    "$||e_k||_2 \\leq q^k ||e_0||_2$\n",
    "\n",
    "$\\frac{||e_k||_2}{||e_0||_2} \\leq q^k$\n",
    "\n",
    "$e_k = x_* - x_k, e_0 = x_* - x_0 = x_*, x_0 = 0$\n",
    "\n",
    "$\\frac{||x_* - x_k||_2}{||x_*||_2} \\leq q^k \\leq \\varepsilon$\n",
    "\n",
    "$q^k \\leq \\varepsilon => k \\geq log_q \\varepsilon => k \\geq 4605170.2 => k = 4605171$\n",
    "\n",
    "2. Chebyshev\n",
    "\n",
    "$q = \\frac{\\sqrt{10^6} - 1}{\\sqrt{10^6} + 1}$\n",
    "\n",
    "$||e_{k+1}||_2 \\leq C q^k ||e_0||_2$\n",
    "\n",
    "$e_{k+1} = x_* - x_{k+1}, e_0 = x_* - x_0 = x_*, x_0 = 0$\n",
    "\n",
    "$\\frac{||x_* - x_{k+1}||_2}{||x_*||_2} \\leq C q^k \\leq \\varepsilon$\n",
    "\n",
    "$q^k \\leq \\frac{\\varepsilon}{C} => k \\geq log_q \\frac{\\varepsilon}{C} => k \\geq 4605.2 => k = 4606$, where $C=1$\n",
    "\n",
    "3. Conjugate gradient\n",
    "\n",
    "$q = \\frac{\\sqrt{10^6} - 1}{\\sqrt{10^6} + 1}$\n",
    "\n",
    "$\\frac{\\Vert x_k - x_* \\Vert_A }{\\Vert x_* \\Vert_A} \\leq \\gamma q^k \\leq \\varepsilon$\n",
    "\n",
    "$q^k \\leq \\frac{\\varepsilon}{\\gamma} => k \\geq log_q \\frac{\\varepsilon}{\\gamma} => k \\geq 4605.2 => k = 4606$, where $\\gamma=1$"
   ]
  },
  {
   "cell_type": "code",
   "execution_count": 48,
   "metadata": {},
   "outputs": [],
   "source": [
    "# B = np.random.randn(2, 2)\n",
    "# B = np.array([[3, 0], [0, 5]])\n",
    "# B = np.array([[0, 1], [-1, 0]])\n",
    "# x_true = np.zeros(2)\n",
    "# f = B.dot(x_true)\n",
    "\n",
    "diag = np.hstack([np.arange(1, 1001) / 1000, [1000]])\n",
    "B = np.diag(diag)\n",
    "f = np.random.rand(diag.shape[0])\n",
    "x_true = (1 / diag) * f\n",
    "norm_x_true = np.linalg.norm(x_true)\n",
    "\n",
    "# Run Richardson iteration\n",
    "x = np.zeros(diag.shape[0])\n",
    "tau = 2 / (1e-3 + 1000)\n",
    "# conv_x = [x]\n",
    "r = B.dot(x) - f\n",
    "relative_error  = [np.linalg.norm(x - x_true) / norm_x_true]\n",
    "# conv_r = [np.linalg.norm(r)]\n",
    "max_iter = int(1e7)\n",
    "eps = 1e-4"
   ]
  },
  {
   "cell_type": "code",
   "execution_count": null,
   "metadata": {},
   "outputs": [],
   "source": [
    "for i in range(max_iter):\n",
    "    x = x - tau * r\n",
    "#     conv_x.append(x)\n",
    "    r = B.dot(x) - f\n",
    "#     conv_r.append(np.linalg.norm(r))\n",
    "    relative_error.append(np.linalg.norm(x - x_true) / norm_x_true)\n",
    "    if relative_error[-1]  <= eps:\n",
    "        break"
   ]
  },
  {
   "cell_type": "markdown",
   "metadata": {},
   "source": [
    "My computer RAM is weak, so I did Richardson iteration on Colab"
   ]
  },
  {
   "cell_type": "code",
   "execution_count": 26,
   "metadata": {},
   "outputs": [],
   "source": [
    "import pickle\n",
    "\n",
    "with open('relative_error.pkl', 'rb') as f:\n",
    "    rich_relative_error = pickle.load(f)\n",
    "\n",
    "with open('conv_r.pkl', 'rb') as f:\n",
    "    rich_conv_r = pickle.load(f)\n",
    "\n",
    "with open('x.pkl', 'rb') as f:\n",
    "    rich_x = pickle.load(f)"
   ]
  },
  {
   "cell_type": "code",
   "execution_count": 47,
   "metadata": {},
   "outputs": [
    {
     "data": {
      "text/plain": [
       "'The final residual is 0.00011623208149598071'"
      ]
     },
     "execution_count": 47,
     "metadata": {},
     "output_type": "execute_result"
    }
   ],
   "source": [
    "\"The final residual is {}\".format(rich_conv_r[-1])"
   ]
  },
  {
   "cell_type": "code",
   "execution_count": 39,
   "metadata": {},
   "outputs": [
    {
     "data": {
      "text/plain": [
       "4574003"
      ]
     },
     "execution_count": 39,
     "metadata": {},
     "output_type": "execute_result"
    }
   ],
   "source": [
    "len(rich_relative_error)"
   ]
  },
  {
   "cell_type": "code",
   "execution_count": 118,
   "metadata": {},
   "outputs": [
    {
     "data": {
      "image/png": "[encoded data removed]",
      "text/plain": [
       "<Figure size 432x288 with 1 Axes>"
      ]
     },
     "metadata": {
      "needs_background": "light"
     },
     "output_type": "display_data"
    },
    {
     "data": {
      "image/png": "[encoded data removed]",
      "text/plain": [
       "<Figure size 432x288 with 1 Axes>"
      ]
     },
     "metadata": {
      "needs_background": "light"
     },
     "output_type": "display_data"
    }
   ],
   "source": [
    "plt.figure()\n",
    "plt.plot(rich_relative_error, label='Richardson')\n",
    "plt.legend(fontsize=20)\n",
    "plt.xlabel(\"Number of iterations, $k$\", fontsize=20)\n",
    "plt.ylabel(\"Relative error\", fontsize=20)\n",
    "plt.xticks(fontsize=20)\n",
    "_ = plt.yticks(fontsize=20)\n",
    "\n",
    "plt.figure()\n",
    "plt.semilogy(rich_relative_error, label='Richardson')\n",
    "plt.legend(fontsize=20)\n",
    "plt.xlabel(\"Number of iterations, $k$\", fontsize=20)\n",
    "plt.ylabel(\"Relative error\", fontsize=20)\n",
    "plt.xticks(fontsize=20)\n",
    "_ = plt.yticks(fontsize=20)"
   ]
  },
  {
   "cell_type": "markdown",
   "metadata": {},
   "source": [
    "Numerical number of iterations for Richardson is 4574003 vs 4605171 (theoretical number of iterations)"
   ]
  },
  {
   "cell_type": "code",
   "execution_count": 35,
   "metadata": {},
   "outputs": [
    {
     "data": {
      "text/plain": [
       "5067"
      ]
     },
     "execution_count": 35,
     "metadata": {},
     "output_type": "execute_result"
    }
   ],
   "source": [
    "diag = np.hstack([np.arange(1, 1001) / 1000, [1000]])\n",
    "A = np.diag(diag)\n",
    "rhs = np.random.rand(diag.shape[0])\n",
    "# rhs = np.ones(diag.shape[0])\n",
    "x_true = (1 / diag) * rhs\n",
    "# x_true = np.ones(diag.shape[0])\n",
    "# x_true = np.random.rand(diag.shape[0])\n",
    "# rhs = A @ x_true\n",
    "norm_x_true = np.linalg.norm(x_true)\n",
    "\n",
    "niters = int(2e4)\n",
    "lam_max = 1e3\n",
    "lam_min = 1e-3\n",
    "roots = [np.cos((np.pi * (2 * i + 1)) / (2 * niters)) for i in range(niters)]\n",
    "taus = [(lam_max + lam_min - (lam_min - lam_max) * r) / 2 for r in roots]\n",
    "x = np.zeros(diag.shape[0])\n",
    "r = A.dot(x) - rhs\n",
    "res_cheb = [np.linalg.norm(r)]\n",
    "eps = 1e-4\n",
    "\n",
    "# Implementation may be non-optimal if number of iterations is not power of two\n",
    "def good_shuffle(idx):\n",
    "    if len(idx) == 1:\n",
    "        return idx\n",
    "    else:\n",
    "        new_len = int(np.ceil((len(idx) / 2)))\n",
    "        new_idx = good_shuffle(idx[:new_len])\n",
    "        res_perm = []\n",
    "        perm_count = 0\n",
    "        for i in new_idx:\n",
    "            res_perm.append(i)\n",
    "            perm_count += 1\n",
    "            if perm_count == len(idx):\n",
    "                break\n",
    "            res_perm.append(len(idx) + 1 - i)\n",
    "            perm_count += 1\n",
    "            if perm_count == len(idx):\n",
    "                break\n",
    "        return res_perm\n",
    "\n",
    "good_perm = good_shuffle([i for i in range(1, niters+1)])\n",
    "# good_perm = [i for i in range(niters, 0, -1)]\n",
    "# good_perm = [i for i in range(niters)]\n",
    "# good_perm = np.random.permutation([i for i in range(1, niters+1)])\n",
    "cheb_relative_error = [np.linalg.norm(x - x_true) / norm_x_true]\n",
    "\n",
    "for i in range(niters):\n",
    "    x = x - 1.0/taus[good_perm[i] - 1] * r\n",
    "    r = A.dot(x) - rhs\n",
    "    cheb_relative_error.append(np.linalg.norm(x - x_true) / norm_x_true)\n",
    "    res_cheb.append(np.linalg.norm(r))\n",
    "    if cheb_relative_error[-1] <= eps:\n",
    "        break\n",
    "        \n",
    "len(cheb_relative_error)"
   ]
  },
  {
   "cell_type": "code",
   "execution_count": 139,
   "metadata": {},
   "outputs": [
    {
     "data": {
      "image/png": "[encoded data removed]",
      "text/plain": [
       "<Figure size 432x288 with 1 Axes>"
      ]
     },
     "metadata": {
      "needs_background": "light"
     },
     "output_type": "display_data"
    },
    {
     "data": {
      "image/png": "[encoded data removed]",
      "text/plain": [
       "<Figure size 432x288 with 1 Axes>"
      ]
     },
     "metadata": {
      "needs_background": "light"
     },
     "output_type": "display_data"
    }
   ],
   "source": [
    "plt.figure()\n",
    "plt.plot(cheb_relative_error, label='Chebyshev')\n",
    "plt.legend(fontsize=20)\n",
    "plt.xlabel(\"Number of iterations, $k$\", fontsize=20)\n",
    "plt.ylabel(\"Relative error\", fontsize=20)\n",
    "plt.xticks(fontsize=20)\n",
    "_ = plt.yticks(fontsize=20)\n",
    "\n",
    "plt.figure()\n",
    "plt.semilogy(cheb_relative_error, label='Chebyshev')\n",
    "plt.legend(fontsize=20)\n",
    "plt.xlabel(\"Number of iterations, $k$\", fontsize=20)\n",
    "plt.ylabel(\"Relative error\", fontsize=20)\n",
    "plt.xticks(fontsize=20)\n",
    "_ = plt.yticks(fontsize=20)"
   ]
  },
  {
   "cell_type": "markdown",
   "metadata": {},
   "source": [
    "Numerical number of iterations for Chebyshev is 5067 vs 4606 (theoretical number of iterations)"
   ]
  },
  {
   "cell_type": "code",
   "execution_count": 137,
   "metadata": {},
   "outputs": [
    {
     "data": {
      "text/plain": [
       "(88, 0.08867665315943832)"
      ]
     },
     "execution_count": 137,
     "metadata": {},
     "output_type": "execute_result"
    }
   ],
   "source": [
    "diag = np.hstack([np.arange(1, 1001) / 1000, [1000]])\n",
    "A = np.diag(diag)\n",
    "b = np.random.rand(diag.shape[0])\n",
    "x_true = (1 / diag) * b\n",
    "\n",
    "x0 = np.zeros(diag.shape[0])\n",
    "eps = 1e-4\n",
    "# residual_eps = 1e-20\n",
    "max_iter = int(1e4)\n",
    "r0 = b - A @ x0\n",
    "\n",
    "r_prev = r0\n",
    "r_next = 0\n",
    "\n",
    "p_prev = r0\n",
    "p_next = 0\n",
    "x_prev = x0\n",
    "x_next = x0\n",
    "\n",
    "x_true_A_norm = (A @ x_true) @ x_true\n",
    "CG_relative_error = [np.linalg.norm(x - x_true) / np.linalg.norm(x_true)]\n",
    "\n",
    "for k in range(max_iter):\n",
    "    A_dot_p_k = A @ p_prev\n",
    "    alpha = (r_prev @ r_prev) / (p_prev @ A_dot_p_k)\n",
    "    x_next = x_prev + alpha * p_prev\n",
    "    r_next = r_prev - alpha * A_dot_p_k\n",
    "    \n",
    "#     if np.linalg.norm(r_next) < residaul_eps:\n",
    "#         break\n",
    "#     else:\n",
    "    beta = (r_next @ r_next) / (r_prev @ r_prev)\n",
    "    p_next = r_next + beta * p_prev\n",
    "    \n",
    "    CG_relative_error.append(((A @ (x_next - x_true)) @ (x_next - x_true)) / (x_true_A_norm))\n",
    "    \n",
    "    if CG_relative_error[-1] <= eps:\n",
    "        break\n",
    "    \n",
    "    x_prev = x_next\n",
    "    p_prev = p_next\n",
    "    r_prev = r_next\n",
    "    \n",
    "k, np.linalg.norm(A @ x_next - b)"
   ]
  },
  {
   "cell_type": "code",
   "execution_count": 138,
   "metadata": {},
   "outputs": [
    {
     "data": {
      "image/png": "[encoded data removed]",
      "text/plain": [
       "<Figure size 432x288 with 1 Axes>"
      ]
     },
     "metadata": {
      "needs_background": "light"
     },
     "output_type": "display_data"
    },
    {
     "data": {
      "image/png": "[encoded data removed]",
      "text/plain": [
       "<Figure size 432x288 with 1 Axes>"
      ]
     },
     "metadata": {
      "needs_background": "light"
     },
     "output_type": "display_data"
    }
   ],
   "source": [
    "plt.figure()\n",
    "plt.plot(CG_relative_error, label='CG')\n",
    "plt.legend(fontsize=20)\n",
    "plt.xlabel(\"Number of iterations, $k$\", fontsize=20)\n",
    "plt.ylabel(\"Relative error\", fontsize=20)\n",
    "plt.xticks(fontsize=20)\n",
    "_ = plt.yticks(fontsize=20)\n",
    "\n",
    "plt.figure()\n",
    "plt.semilogy(CG_relative_error, label='CG')\n",
    "plt.legend(fontsize=20)\n",
    "plt.xlabel(\"Number of iterations, $k$\", fontsize=20)\n",
    "plt.ylabel(\"Relative error\", fontsize=20)\n",
    "plt.xticks(fontsize=20)\n",
    "_ = plt.yticks(fontsize=20)"
   ]
  },
  {
   "cell_type": "markdown",
   "metadata": {},
   "source": [
    "## Problem 2 (40 pts)\n",
    "\n",
    "### Spectral graph partitioning and inverse iteration\n",
    "\n",
    "\n",
    "Given connected graph $G$ and its corresponding graph Laplacian matrix $L = D - A$ with eigenvalues $0=\\lambda_1, \\lambda_2, ..., \\lambda_n$, where $D$ is its degree matrix and $A$ is its adjacency matrix, *Fiedler vector* is an eignevector correspondng to the second smallest eigenvalue $\\lambda_2$ of $L$. Fiedler vector can be used for graph partitioning: positive values correspond to the one part of a graph and negative values to another."
   ]
  },
  {
   "cell_type": "markdown",
   "metadata": {},
   "source": [
    "### Inverse power method (15 pts)\n",
    "\n",
    "To find the Fiedler vector we will use the inverse iteration with adaptive shifts (Rayleigh quotient iteration). \n",
    "\n",
    "* (5 pts) Write down the orthoprojection matrix on the space orthogonal to the eigenvector of $L$, corresponding to the eigenvalue $0$ and prove (analytically) that it is indeed an orthoprojection.\n",
    " \n",
    "* (5 pts) Implement the spectral partitioning as the function ```partition```:"
   ]
  },
  {
   "cell_type": "markdown",
   "metadata": {},
   "source": [
    "### 2.1\n",
    "\n",
    "Let $P = \\begin{bmatrix} 1 - \\frac{1}{n} & -\\frac{1}{n} & \\dots & -\\frac{1}{n} \\\\ -\\frac{1}{n} & \\ddots & & \\vdots \\\\ \\vdots &  & \\ddots  & -\\frac{1}{n} \\\\ -\\frac{1}{n} & \\dots & -\\frac{1}{n} & 1 - \\frac{1}{n}\\end{bmatrix}$\n",
    "\n",
    "1. Check that $P^2 = P$\n",
    "\n",
    "$P^2 = \\begin{bmatrix} 1 - \\frac{1}{n} & -\\frac{1}{n} & \\dots & -\\frac{1}{n} \\\\ -\\frac{1}{n} & \\ddots & & \\vdots \\\\ \\vdots &  & \\ddots  & -\\frac{1}{n} \\\\ -\\frac{1}{n} & \\dots & -\\frac{1}{n} & 1 - \\frac{1}{n}\\end{bmatrix} = P$\n",
    "\n",
    "2. Check that $P^T = P$\n",
    "\n",
    "$P^T = \\begin{bmatrix} 1 - \\frac{1}{n} & -\\frac{1}{n} & \\dots & -\\frac{1}{n} \\\\ -\\frac{1}{n} & \\ddots & & \\vdots \\\\ \\vdots &  & \\ddots  & -\\frac{1}{n} \\\\ -\\frac{1}{n} & \\dots & -\\frac{1}{n} & 1 - \\frac{1}{n}\\end{bmatrix} = P$\n",
    "\n",
    "Also let's find eigenvector $v_1$:\n",
    "\n",
    "$L v_1 = \\lambda_1 v_1 = 0$, as $\\lambda_1 = 0$ $=> Lv_1 = 0$\n",
    "\n",
    "Let $v_1 = (1, \\dots, 1)^T$, so it satisfies $Lv_1=0$\n",
    "\n",
    "Let $v = (v_1, v_2, \\dots, v_n)^T$, then $Pv = (v_1 - \\frac{1}{n} \\sum_{k=1}^n v_k, \\dots, v_n - \\frac{1}{n} \\sum_{k=1}^n v_k)^T$\n",
    "\n",
    "And check that $Pv \\perp (1, \\dots, 1)^T$. Calculate their scalar product: $(Pv, (1, \\dots, 1)^T) = \\sum_{k=1}^n v_k - n \\frac{1}{n} \\sum_{k=1}^n v_k = \\sum_{k=1}^n v_k - \\sum_{k=1}^n v_k = 0 => Pv \\perp (1, \\dots, 1)^T$"
   ]
  },
  {
   "cell_type": "markdown",
   "metadata": {},
   "source": [
    "### 2.2"
   ]
  },
  {
   "cell_type": "code",
   "execution_count": 1582,
   "metadata": {},
   "outputs": [],
   "source": [
    "import scipy.sparse as spsp\n",
    "\n",
    "# INPUT:\n",
    "# A - adjacency matrix (scipy.sparse.csr_matrix)\n",
    "# num_iter_fix - number of iterations with fixed shift (int)\n",
    "# shift - (float number)\n",
    "# num_iter_adapt - number of iterations with adaptive shift (int) -- Rayleigh quotient iteration steps\n",
    "# x0 - initial guess (1D numpy.ndarray)\n",
    "# eps - relative tolerance (float)\n",
    "# OUTPUT:\n",
    "# x - normalized Fiedler vector (1D numpy.ndarray)\n",
    "# eigs - eigenvalue estimations at each step (1D numpy.ndarray)\n",
    "\n",
    "def partition(A, shift, num_iter_fix, num_iter_adapt, x0, eps):\n",
    "    x = x0 / np.linalg.norm(x0)\n",
    "    eigs = np.array([0])\n",
    "    n = A.shape[0]\n",
    "    \n",
    "    if type(A) == np.ndarray:\n",
    "        \n",
    "        diag = np.sum(A, axis=0)\n",
    "        L = np.diag(diag) - A\n",
    "\n",
    "        for i in range(num_iter_fix):\n",
    "            x = x - x.mean()\n",
    "            x = np.linalg.solve(L - shift * np.eye(n), x)\n",
    "            x = x / np.linalg.norm(x)\n",
    "\n",
    "        for i in range(num_iter_adapt):\n",
    "            x = x - x.mean()\n",
    "            x = x / np.linalg.norm(x)\n",
    "            lambd = ((L @ x) @ x) / (x @ x)\n",
    "            x = np.linalg.solve(L - lambd * np.eye(n), x)\n",
    "            x = x / np.linalg.norm(x)\n",
    "            eigs = np.append(eigs, lambd)\n",
    "            if eigs[-1] != 0 and np.linalg.norm(eigs[-1] - eigs[-2]) / np.linalg.norm(eigs[-1]) < eps:\n",
    "                break\n",
    "    else:\n",
    "        \n",
    "        diag = A.sum(axis=0).A1\n",
    "        L = spsp.diags(diag) - A\n",
    "\n",
    "        for i in range(num_iter_fix):\n",
    "            x = x - x.mean()\n",
    "            x = x / np.linalg.norm(x)\n",
    "            x = spsp.linalg.spsolve(L - shift * spsp.identity(n), x)\n",
    "            x = x / np.linalg.norm(x)\n",
    "\n",
    "        for i in range(num_iter_adapt):\n",
    "            x = x - x.mean()\n",
    "            x = x / np.linalg.norm(x)\n",
    "            lambd = ((L @ x) @ x) / (x @ x)\n",
    "            x = spsp.linalg.spsolve(L - lambd * spsp.identity(n), x)\n",
    "            x = x / np.linalg.norm(x)\n",
    "            eigs = np.append(eigs, lambd)\n",
    "            if eigs[-1] != 0 and np.linalg.norm(eigs[-1] - eigs[-2]) / np.linalg.norm(eigs[-1]) < eps:\n",
    "                break\n",
    "                \n",
    "    return x, eigs"
   ]
  },
  {
   "cell_type": "markdown",
   "metadata": {},
   "source": [
    "Algorithm must halt before `num_iter_fix + num_iter_adapt` iterations if the following condition is satisfied $$ \\boxed{\\|\\lambda_k - \\lambda_{k-1}\\|_2 / \\|\\lambda_k\\|_2 \\leq \\varepsilon} \\text{ at some step } k.$$\n",
    "\n",
    "Do not forget to use the orthogonal projection from above in the iterative process to get the correct eigenvector.\n",
    "It is also a good idea to use ```shift=0``` before the adaptive stragy is used. This, however, is not possible since the matrix $L$ is singular, and sparse decompositions in ```scipy``` does not work in this case. Therefore, we first use a very small shift instead.\n",
    "\n",
    "* (3 pts) Generate a random `lollipop_graph` using `networkx` library and find its partition. [Draw](https://networkx.github.io/documentation/networkx-1.9/examples/drawing/labels_and_colors.html) this graph with vertices colored according to the partition.\n",
    "\n",
    "* (2 pts) Start the method with a random initial guess ```x0```, set ```num_iter_fix=0``` and comment why the method can converge to a wrong eigenvalue."
   ]
  },
  {
   "cell_type": "markdown",
   "metadata": {},
   "source": [
    "### 2.3"
   ]
  },
  {
   "cell_type": "code",
   "execution_count": 1598,
   "metadata": {},
   "outputs": [
    {
     "data": {
      "text/plain": [
       "(array([-0.1893524 , -0.1893524 , -0.1893524 , -0.1893524 , -0.1893524 ,\n",
       "        -0.1893524 , -0.1893524 , -0.1893524 , -0.1893524 , -0.18216459,\n",
       "        -0.11055929, -0.03475717,  0.04236433,  0.11787769,  0.18891641,\n",
       "         0.25278386,  0.30705565,  0.3496716 ,  0.37901403,  0.39396909]),\n",
       " 0.03795998478479056)"
      ]
     },
     "execution_count": 1598,
     "metadata": {},
     "output_type": "execute_result"
    }
   ],
   "source": [
    "import networkx as nx\n",
    "\n",
    "G = nx.lollipop_graph(10, 10)\n",
    "A_sparse = nx.linalg.graphmatrix.adjacency_matrix(G)\n",
    "A_dense = A_sparse.todense()\n",
    "\n",
    "#x, eigs = partition(A_dense, 1e-3, 10, 100, np.random.rand(A_dense.shape[0]), 1e-5)\n",
    "x, eigs = partition(A_sparse, 1e-3, 10, 100, np.random.rand(A_sparse.shape[0]), 1e-5)\n",
    "x, eigs[-1]"
   ]
  },
  {
   "cell_type": "code",
   "execution_count": 1599,
   "metadata": {},
   "outputs": [
    {
     "data": {
      "image/png": "[encoded data removed]",
      "text/plain": [
       "<Figure size 432x288 with 1 Axes>"
      ]
     },
     "metadata": {},
     "output_type": "display_data"
    }
   ],
   "source": [
    "import matplotlib.pyplot as plt\n",
    "\n",
    "inds = np.arange(x.shape[0])\n",
    "\n",
    "edges = np.array(G.edges)\n",
    "edges1, edges2 = [], []\n",
    "for edge in edges:\n",
    "    if edge[0] in inds[x > 0]:\n",
    "        edges1.append(edge)\n",
    "    else:\n",
    "        edges2.append(edge)\n",
    "# G=nx.cubical_graph()\n",
    "pos=nx.spring_layout(G) # positions for all nodes\n",
    "\n",
    "# nodes\n",
    "nx.draw_networkx_nodes(G,pos,\n",
    "                       nodelist=inds[x > 0],\n",
    "                       node_color='r',\n",
    "                       node_size=500,\n",
    "                   alpha=0.8)\n",
    "nx.draw_networkx_nodes(G,pos,\n",
    "                       nodelist=inds[x < 0],\n",
    "                       node_color='b',\n",
    "                       node_size=500,\n",
    "                   alpha=0.8)\n",
    "\n",
    "# edges\n",
    "nx.draw_networkx_edges(G,pos,width=1.0,alpha=0.5)\n",
    "nx.draw_networkx_edges(G,pos,\n",
    "                       edgelist=edges1,\n",
    "                       width=8,alpha=0.5,edge_color='r')\n",
    "nx.draw_networkx_edges(G,pos,\n",
    "                       edgelist=edges2,\n",
    "                       width=8,alpha=0.5,edge_color='b')\n",
    "\n",
    "plt.axis('off')\n",
    "plt.savefig(\"labels_and_colors.png\") # save as png\n",
    "plt.show() # display"
   ]
  },
  {
   "cell_type": "markdown",
   "metadata": {},
   "source": [
    "### 2.4"
   ]
  },
  {
   "cell_type": "code",
   "execution_count": 1640,
   "metadata": {},
   "outputs": [],
   "source": [
    "x, eigs = partition(A_sparse, 1e-6, 0, 100, np.random.rand(A_sparse.shape[0]), 1e-6)"
   ]
  },
  {
   "cell_type": "code",
   "execution_count": 1641,
   "metadata": {},
   "outputs": [
    {
     "data": {
      "text/plain": [
       "array([ 0.        ,  6.85580517,  7.79622473,  9.32247096,  9.99567971,\n",
       "       10.00000011, 10.        ])"
      ]
     },
     "execution_count": 1641,
     "metadata": {},
     "output_type": "execute_result"
    }
   ],
   "source": [
    "eigs"
   ]
  },
  {
   "cell_type": "code",
   "execution_count": 1623,
   "metadata": {},
   "outputs": [
    {
     "data": {
      "text/plain": [
       "[0.14577361271286735,\n",
       " 0.3952122030707433,\n",
       " 0.6740483216596308,\n",
       " 0.9089125312208852,\n",
       " 0.9999999999999984,\n",
       " 0.9999999999999988,\n",
       " 0.9999999999999998,\n",
       " 0.9999999999999999,\n",
       " 0.9999999999999999,\n",
       " 1.0,\n",
       " 1.0,\n",
       " 1.0000000000000002,\n",
       " 1.1510812506406636,\n",
       " 1.3567135247176634,\n",
       " 1.5424690735508917,\n",
       " 1.7043127199466899,\n",
       " 1.8204033690508048,\n",
       " 1.9245676613394342,\n",
       " 1.967294933942707,\n",
       " 9.01135192126215]"
      ]
     },
     "execution_count": 1623,
     "metadata": {},
     "output_type": "execute_result"
    }
   ],
   "source": [
    "sorted(np.abs(np.linalg.eigvals(A_dense)))"
   ]
  },
  {
   "cell_type": "markdown",
   "metadata": {},
   "source": [
    "Power method converges to the largest eigenvalue. Inverse power method converges to the smallest eigenvalue. But we want to find the second smallest eigenvalue. Using zero or small shift, we approximate the eigenvector, corresponding to the smallest eigenvalue, except zero (because we use the orthoprojection matrix on the space orthogonal to the eigenvector of $L$, corresponding to the eigenvalue $0$)"
   ]
  },
  {
   "cell_type": "markdown",
   "metadata": {},
   "source": [
    "### Spectral graph properties (15 pts)\n",
    "\n",
    "* (5 pts) Prove that multiplicity of the eigenvalue $0$ in the spectrum of the graphs Laplacian is the number of its connected components.\n",
    "* (10 pts) The second-smallest eigenvalue of $L(G)$, $\\lambda_2(L(G))$, is often called the algebraic connectivity of the\n",
    "graph $G$. A basic intuition behind the use of this term is that a graph with a higher algebraic\n",
    "connectivity typically has more edges, and can therefore be thought of as being “more connected”.  \n",
    "To check this statement, create few graphs with equal number of vertices using `networkx`, one of them should be $C_{30}$ - simple cyclic graph, and one of them should be $K_{30}$ - complete graph. (You also can change the number of vertices if it makes sense for your experiments, but do not make it trivially small).\n",
    "    * Find the algebraic connectivity for the each graph using inverse iteration.\n",
    "    * Plot the dependency $\\lambda_2(G_i)$ on $|E_i|$.\n",
    "    * Draw a partition for a chosen graph from the generated set.\n",
    "    * Comment on the results."
   ]
  },
  {
   "cell_type": "markdown",
   "metadata": {},
   "source": [
    "### 2.5"
   ]
  },
  {
   "cell_type": "markdown",
   "metadata": {},
   "source": [
    "Theorem 3.1.3\n",
    "http://www.maths.nuigalway.ie/~rquinlan/linearalgebra/section3-1.pdf, but I didn't get it"
   ]
  },
  {
   "cell_type": "markdown",
   "metadata": {},
   "source": [
    "### 2.6"
   ]
  },
  {
   "cell_type": "code",
   "execution_count": 396,
   "metadata": {},
   "outputs": [],
   "source": [
    "G_complete = nx.complete_graph(n=30)\n",
    "G_cyclic = nx.cycle_graph(n=30)\n",
    "\n",
    "A_complete = nx.linalg.graphmatrix.adjacency_matrix(G_complete)\n",
    "A_cyclic = nx.linalg.graphmatrix.adjacency_matrix(G_cyclic)"
   ]
  },
  {
   "cell_type": "code",
   "execution_count": 440,
   "metadata": {},
   "outputs": [
    {
     "data": {
      "text/plain": [
       "30.0"
      ]
     },
     "execution_count": 440,
     "metadata": {},
     "output_type": "execute_result"
    }
   ],
   "source": [
    "x_complete, eigs_complete = partition(A_complete, 1e-3, 100, 100, np.random.rand(A_complete.shape[0]), 1e-5)\n",
    "eigs_complete[-1]"
   ]
  },
  {
   "cell_type": "markdown",
   "metadata": {},
   "source": [
    "Algebraic connectivity for $K_{30}$ is equals to $30$"
   ]
  },
  {
   "cell_type": "code",
   "execution_count": 441,
   "metadata": {},
   "outputs": [
    {
     "data": {
      "text/plain": [
       "0.04370479853238874"
      ]
     },
     "execution_count": 441,
     "metadata": {},
     "output_type": "execute_result"
    }
   ],
   "source": [
    "x_cyclic, eigs_cyclic = partition(A_cyclic, 1e-3, 100, 100, np.random.rand(A_cyclic.shape[0]), 1e-5)\n",
    "eigs_cyclic[-1]"
   ]
  },
  {
   "cell_type": "markdown",
   "metadata": {},
   "source": [
    "Algebraic connectivity for $C_{30}$ is approximately equals to $0.044$"
   ]
  },
  {
   "cell_type": "code",
   "execution_count": 443,
   "metadata": {},
   "outputs": [],
   "source": [
    "from networkx.generators.random_graphs import fast_gnp_random_graph"
   ]
  },
  {
   "cell_type": "code",
   "execution_count": 480,
   "metadata": {},
   "outputs": [
    {
     "data": {
      "application/vnd.jupyter.widget-view+json": {
       "model_id": "b74fe00aafa14b8a90a2cff450496361",
       "version_major": 2,
       "version_minor": 0
      },
      "text/plain": [
       "HBox(children=(FloatProgress(value=0.0, max=392.0), HTML(value='')))"
      ]
     },
     "metadata": {},
     "output_type": "display_data"
    },
    {
     "name": "stderr",
     "output_type": "stream",
     "text": [
      "/home/true_pg/anaconda3/lib/python3.8/site-packages/scipy/sparse/linalg/dsolve/linsolve.py:206: MatrixRankWarning: Matrix is exactly singular\n",
      "  warn(\"Matrix is exactly singular\", MatrixRankWarning)\n",
      "<ipython-input-326-6263a4e53c74>:54: RuntimeWarning: divide by zero encountered in double_scalars\n",
      "  if np.linalg.norm(eigs[-1] - eigs[-2]) / np.linalg.norm(eigs[-1]) < eps:\n"
     ]
    },
    {
     "name": "stdout",
     "output_type": "stream",
     "text": [
      "\n"
     ]
    }
   ],
   "source": [
    "G_random = fast_gnp_random_graph(30, 0.1)\n",
    "max_iter = len(list(nx.non_edges(G_random)))\n",
    "lambda2_arr = []\n",
    "\n",
    "for i in tqdm(range(max_iter)):\n",
    "    non_edges = list(nx.non_edges(G_random))\n",
    "    random_ind_non_edge = np.random.randint(low=0, high=len(non_edges))\n",
    "    u, v = non_edges[random_ind_non_edge][0], non_edges[random_ind_non_edge][1]\n",
    "    G_random.add_edge(u, v)\n",
    "    A_random = adjacency_matrix(G_random)\n",
    "    res = partition(A_random, 1e-3, 10, 100, np.random.rand(A_random.shape[0]), 1e-5)\n",
    "    lambda2_arr.append(res[1][-1])"
   ]
  },
  {
   "cell_type": "code",
   "execution_count": 495,
   "metadata": {},
   "outputs": [
    {
     "data": {
      "text/plain": [
       "Text(0, 0.5, '$\\\\lambda_2(G)$')"
      ]
     },
     "execution_count": 495,
     "metadata": {},
     "output_type": "execute_result"
    },
    {
     "data": {
      "image/png": "[encoded data removed]",
      "text/plain": [
       "<Figure size 432x288 with 1 Axes>"
      ]
     },
     "metadata": {
      "needs_background": "light"
     },
     "output_type": "display_data"
    }
   ],
   "source": [
    "plt.plot(range(max_iter), lambda2_arr, label='Random $G_{n, p}$')\n",
    "plt.legend(fontsize=20)\n",
    "plt.xlabel('# of edges', fontsize=14)\n",
    "plt.ylabel('$\\lambda_2(G)$', fontsize=14)"
   ]
  },
  {
   "cell_type": "code",
   "execution_count": 496,
   "metadata": {},
   "outputs": [
    {
     "data": {
      "application/vnd.jupyter.widget-view+json": {
       "model_id": "b4f092e3b49c4cdea086b422775fee08",
       "version_major": 2,
       "version_minor": 0
      },
      "text/plain": [
       "HBox(children=(FloatProgress(value=0.0, max=370.0), HTML(value='')))"
      ]
     },
     "metadata": {},
     "output_type": "display_data"
    },
    {
     "name": "stdout",
     "output_type": "stream",
     "text": [
      "\n"
     ]
    }
   ],
   "source": [
    "cycle_lambda2_arr = []\n",
    "cycle_num_edges = []\n",
    "\n",
    "for n in tqdm(np.arange(30, 400)):\n",
    "    G = nx.cycle_graph(n=n)\n",
    "    A = adjacency_matrix(G)\n",
    "    cycle_num_edges.append(len(G.edges))\n",
    "    \n",
    "    res = partition(A, 1e-3, 10, 100, np.random.rand(A.shape[0]), 1e-5)\n",
    "    cycle_lambda2_arr.append(res[1][-1])"
   ]
  },
  {
   "cell_type": "code",
   "execution_count": 505,
   "metadata": {},
   "outputs": [
    {
     "data": {
      "image/png": "[encoded data removed]",
      "text/plain": [
       "<Figure size 432x288 with 1 Axes>"
      ]
     },
     "metadata": {
      "needs_background": "light"
     },
     "output_type": "display_data"
    }
   ],
   "source": [
    "plt.plot(cycle_num_edges, cycle_lambda2_arr, label='Cycle graph')\n",
    "plt.legend(fontsize=20)\n",
    "plt.xlabel('# of edges', fontsize=14)\n",
    "plt.ylabel('$\\lambda_2(G)$', fontsize=14);"
   ]
  },
  {
   "cell_type": "code",
   "execution_count": 577,
   "metadata": {},
   "outputs": [
    {
     "data": {
      "application/vnd.jupyter.widget-view+json": {
       "model_id": "658f925f33ed4a579272a279c6a722b0",
       "version_major": 2,
       "version_minor": 0
      },
      "text/plain": [
       "HBox(children=(FloatProgress(value=0.0, max=70.0), HTML(value='')))"
      ]
     },
     "metadata": {},
     "output_type": "display_data"
    },
    {
     "name": "stdout",
     "output_type": "stream",
     "text": [
      "\n"
     ]
    }
   ],
   "source": [
    "complete_lambda2_arr = []\n",
    "complete_num_edges = []\n",
    "\n",
    "for n in tqdm(np.arange(30, 100)):\n",
    "    G = nx.complete_graph(n=n)\n",
    "    A = adjacency_matrix(G)\n",
    "    complete_num_edges.append(len(G.edges))\n",
    "    \n",
    "    res = partition(A, 1e-5, 1000, 1000, np.random.rand(A.shape[0]), 1e-9)\n",
    "    while res[1][-1] != res[1][-1]:\n",
    "        res = partition(A, 1e-5, 1000, 1000, np.random.rand(A.shape[0]), 1e-9)\n",
    "    \n",
    "    complete_lambda2_arr.append(res[1][-1])"
   ]
  },
  {
   "cell_type": "code",
   "execution_count": 578,
   "metadata": {},
   "outputs": [
    {
     "data": {
      "image/png": "[encoded data removed]",
      "text/plain": [
       "<Figure size 432x288 with 1 Axes>"
      ]
     },
     "metadata": {
      "needs_background": "light"
     },
     "output_type": "display_data"
    }
   ],
   "source": [
    "plt.plot(complete_num_edges, complete_lambda2_arr, label='Complete graph')\n",
    "plt.legend(fontsize=20)\n",
    "plt.xlabel('# of edges', fontsize=14)\n",
    "plt.ylabel('$\\lambda_2(G)$', fontsize=14);"
   ]
  },
  {
   "cell_type": "markdown",
   "metadata": {},
   "source": [
    "Partition for $G_{30, 0.1}$ is below"
   ]
  },
  {
   "cell_type": "code",
   "execution_count": 538,
   "metadata": {},
   "outputs": [
    {
     "data": {
      "image/png": "[encoded data removed]",
      "text/plain": [
       "<Figure size 432x288 with 1 Axes>"
      ]
     },
     "metadata": {},
     "output_type": "display_data"
    }
   ],
   "source": [
    "G = fast_gnp_random_graph(30, 0.1)\n",
    "A = adjacency_matrix(G)\n",
    "x, eigs = partition(A, 1e-3, 1000, 1000, np.random.rand(A.shape[0]), 1e-5)\n",
    "inds = np.arange(x.shape[0])\n",
    "\n",
    "edges = np.array(G.edges)\n",
    "edges1, edges2 = [], []\n",
    "for edge in edges:\n",
    "    if edge[0] in inds[x > 0]:\n",
    "        edges1.append(edge)\n",
    "    else:\n",
    "        edges2.append(edge)\n",
    "# G=nx.cubical_graph()\n",
    "pos=nx.spring_layout(G) # positions for all nodes\n",
    "\n",
    "# nodes\n",
    "nx.draw_networkx_nodes(G,pos,\n",
    "                       nodelist=inds[x > 0],\n",
    "                       node_color='r',\n",
    "                       node_size=500,\n",
    "                   alpha=0.8)\n",
    "nx.draw_networkx_nodes(G,pos,\n",
    "                       nodelist=inds[x < 0],\n",
    "                       node_color='b',\n",
    "                       node_size=500,\n",
    "                   alpha=0.8)\n",
    "\n",
    "# edges\n",
    "nx.draw_networkx_edges(G,pos,width=1.0,alpha=0.5)\n",
    "nx.draw_networkx_edges(G,pos,\n",
    "                       edgelist=edges1,\n",
    "                       width=8,alpha=0.5,edge_color='r')\n",
    "nx.draw_networkx_edges(G,pos,\n",
    "                       edgelist=edges2,\n",
    "                       width=8,alpha=0.5,edge_color='b')\n",
    "\n",
    "plt.axis('off')\n",
    "plt.savefig(\"labels_and_colors.png\") # save as png\n",
    "plt.show() # display"
   ]
  },
  {
   "cell_type": "markdown",
   "metadata": {},
   "source": [
    "We got unobvious partition! Looks like some clustering :)"
   ]
  },
  {
   "cell_type": "markdown",
   "metadata": {},
   "source": [
    "### Image bipartition (10 pts)\n",
    "\n",
    "Let us deal here with a graph constructed from a binarized image.\n",
    "Consider the rule, that graph vertices are only pixels with $1$, and each vertex can have no more than $8$ connected vertices (pixel neighbours), $\\textit{i.e}$ graph degree is limited by 8.\n",
    "* (3 pts) Find an image with minimal size equal to $(256, 256)$ and binarize it such that graph built on black pixels has exactly $1$ connected component.\n",
    "* (5 pts) Write a function that constructs sparse adjacency matrix from the binarized image, taking into account the rule from above.\n",
    "* (2 pts) Find the partition of the resulting graph and draw the image in accordance with partition."
   ]
  },
  {
   "cell_type": "markdown",
   "metadata": {},
   "source": [
    "### 2.7"
   ]
  },
  {
   "cell_type": "code",
   "execution_count": 1572,
   "metadata": {},
   "outputs": [],
   "source": [
    "img = plt.imread('samovar4.jpg')\n",
    "img = img.mean(axis=2)\n",
    "img = img[100:650, 200:1050]\n",
    "\n",
    "threshold = 128\n",
    "img[img <= threshold] = np.ones(img[img <= threshold].shape)\n",
    "img[img > threshold] = np.zeros(img[img > threshold].shape)"
   ]
  },
  {
   "cell_type": "code",
   "execution_count": 1573,
   "metadata": {},
   "outputs": [
    {
     "data": {
      "text/plain": [
       "<matplotlib.image.AxesImage at 0x7fba00cd13d0>"
      ]
     },
     "execution_count": 1573,
     "metadata": {},
     "output_type": "execute_result"
    },
    {
     "data": {
      "image/png": "[encoded data removed]",
      "text/plain": [
       "<Figure size 432x288 with 1 Axes>"
      ]
     },
     "metadata": {
      "needs_background": "light"
     },
     "output_type": "display_data"
    }
   ],
   "source": [
    "plt.imshow(img, cmap='gray')"
   ]
  },
  {
   "cell_type": "markdown",
   "metadata": {},
   "source": [
    "### 2.8"
   ]
  },
  {
   "cell_type": "code",
   "execution_count": 1503,
   "metadata": {},
   "outputs": [],
   "source": [
    "from skimage.util import view_as_windows\n",
    "from networkx.readwrite.adjlist import parse_adjlist\n",
    "from networkx.linalg.graphmatrix import adjacency_matrix"
   ]
  },
  {
   "cell_type": "code",
   "execution_count": 1504,
   "metadata": {},
   "outputs": [],
   "source": [
    "def get_all_v(window):\n",
    "    all_v = []\n",
    "    for i in range(window.shape[0]):\n",
    "        for j in range(window.shape[1]):\n",
    "            \n",
    "            if i*j != 1 and window[i, j] == 1:\n",
    "                all_v.append((i, j))\n",
    "    return all_v\n",
    "\n",
    "\n",
    "def get_adj_matrix_from_img(new_img):\n",
    "    pad_new_img = np.zeros((new_img.shape[0]+2, new_img.shape[1]+2))\n",
    "    pad_new_img[1:-1, 1:-1] = new_img\n",
    "    windows = view_as_windows(pad_new_img, (3, 3))\n",
    "    \n",
    "    adjlist = []\n",
    "    u_list = []\n",
    "\n",
    "    for i in range(windows.shape[0]):\n",
    "        for j in range(windows.shape[1]):\n",
    "\n",
    "            if windows[i, j][1, 1] == 1:\n",
    "                u = \"{}_{}\".format(i, j)\n",
    "#                 u = str(i * windows.shape[0] + j)\n",
    "                u_list.append(u)\n",
    "\n",
    "                all_v = get_all_v(windows[i, j])\n",
    "                if len(all_v) > 0:\n",
    "                    adjlist_line = u\n",
    "                    for v_ind in all_v:\n",
    "                        v = i + (v_ind[0] - 1), j + (v_ind[1] - 1)\n",
    "                        adjlist_line += ' {}_{}'.format(v[0], v[1])\n",
    "#                         adjlist_line += ' {}'.format(v[0] * windows.shape[0] + v[1])\n",
    "                    adjlist.append(adjlist_line)\n",
    "            \n",
    "    G = parse_adjlist(adjlist)\n",
    "    A = adjacency_matrix(G, nodelist=u_list)\n",
    "    \n",
    "    return A, G"
   ]
  },
  {
   "cell_type": "code",
   "execution_count": 1574,
   "metadata": {},
   "outputs": [
    {
     "data": {
      "text/plain": [
       "<73658x73658 sparse matrix of type '<class 'numpy.int64'>'\n",
       "\twith 569896 stored elements in Compressed Sparse Row format>"
      ]
     },
     "execution_count": 1574,
     "metadata": {},
     "output_type": "execute_result"
    }
   ],
   "source": [
    "A, G = get_adj_matrix_from_img(img)\n",
    "A"
   ]
  },
  {
   "cell_type": "code",
   "execution_count": 1576,
   "metadata": {},
   "outputs": [],
   "source": [
    "x_img, eigs_img = partition(A, 1e-5, 10, 1000, np.random.rand(A.shape[0]), 1e-6)"
   ]
  },
  {
   "cell_type": "code",
   "execution_count": 1577,
   "metadata": {},
   "outputs": [
    {
     "data": {
      "text/plain": [
       "(True, 73658)"
      ]
     },
     "execution_count": 1577,
     "metadata": {},
     "output_type": "execute_result"
    }
   ],
   "source": [
    "x_img.shape[0] == img.sum(), x_img.shape[0]"
   ]
  },
  {
   "cell_type": "code",
   "execution_count": 1578,
   "metadata": {},
   "outputs": [
    {
     "data": {
      "text/plain": [
       "(array([150, 255]), array([38785, 34873]))"
      ]
     },
     "execution_count": 1578,
     "metadata": {},
     "output_type": "execute_result"
    }
   ],
   "source": [
    "color_partition = list(map(lambda x: 255 if x > 0 else 150, x_img))\n",
    "np.unique(color_partition, return_counts=True)"
   ]
  },
  {
   "cell_type": "code",
   "execution_count": 1579,
   "metadata": {},
   "outputs": [],
   "source": [
    "part_img = img.copy()"
   ]
  },
  {
   "cell_type": "code",
   "execution_count": 1580,
   "metadata": {},
   "outputs": [
    {
     "data": {
      "text/plain": [
       "array([  0., 150., 255.])"
      ]
     },
     "execution_count": 1580,
     "metadata": {},
     "output_type": "execute_result"
    }
   ],
   "source": [
    "part_img[part_img > 0] = color_partition\n",
    "np.unique(part_img)"
   ]
  },
  {
   "cell_type": "code",
   "execution_count": 1581,
   "metadata": {},
   "outputs": [
    {
     "data": {
      "text/plain": [
       "<matplotlib.image.AxesImage at 0x7fba00e71c40>"
      ]
     },
     "execution_count": 1581,
     "metadata": {},
     "output_type": "execute_result"
    },
    {
     "data": {
      "image/png": "[encoded data removed]",
      "text/plain": [
       "<Figure size 432x288 with 1 Axes>"
      ]
     },
     "metadata": {
      "needs_background": "light"
     },
     "output_type": "display_data"
    }
   ],
   "source": [
    "plt.imshow(part_img)"
   ]
  },
  {
   "cell_type": "markdown",
   "metadata": {
    "id": "d3B-8pCnLNbm",
    "slideshow": {
     "slide_type": "fragment"
    }
   },
   "source": [
    "## Problem 3 (25 pts)\n",
    "\n",
    "**Disclaimer**: this problem is released first time, so some typos can be found. "
   ]
  },
  {
   "cell_type": "markdown",
   "metadata": {
    "id": "wnaFwh6-LNbm"
   },
   "source": [
    "## Mathematical model (Navier-Stokes equations)\n",
    "\n",
    "The governing equations for two-dimensional incompressible\n",
    "flows can be written in a dimensionless form as:\n",
    "\n",
    "\\begin{equation}\\tag{1}\n",
    "\\dfrac{\\partial \\omega}{\\partial t} = \\dfrac{1}{Re} \\big(\\dfrac{\\partial^2 \\omega}{\\partial x^2} + \\dfrac{\\partial^2 \\omega}{\\partial y^2}\\big) - \\big(\\dfrac{\\partial \\psi}{\\partial y} \\dfrac{\\partial \\omega}{\\partial x} - \\dfrac{\\partial \\psi}{\\partial x} \\dfrac{\\partial \\omega}{\\partial y}\\big),\n",
    "\\end{equation}\n",
    "\n",
    "along with the kinematic relationship between vorticity $\\omega(x,y,t)$ and stream function $\\psi(x,y,t)$ according to the Poisson equation, which is given as:\n",
    "\n",
    "\\begin{equation}\\tag{2}\n",
    "\\dfrac{\\partial^2 \\psi}{\\partial x^2} + \\dfrac{\\partial^2 \\psi}{\\partial y^2} = -\\omega.\n",
    "\\end{equation}\n",
    "\n",
    "We consider equations (1) and (2) in the computational domain $\\Omega = [0, 2\\pi] \\times [0, 2\\pi]$ and impose the following periodic boundary conditions:\n",
    "\n",
    "$$\\omega(x,0,t) =\\omega(x, 2\\pi, t), \\quad \\omega(0,y,t) =\\omega(2\\pi, y, t), \\quad t \\geq 0,$$\n",
    "and the same for $\\psi(x,y,t)$.\n",
    "\n",
    "Note: the Reynolds number, referred to as $Re$, is a fundamental physical constant that in particular determines whether the fluid flow is laminar or turbulent."
   ]
  },
  {
   "cell_type": "markdown",
   "metadata": {
    "id": "G0UKj3PhLNbm"
   },
   "source": [
    "## The animation below represents a particular solution of the Navier-Stokes equations (1) and (2) and you will get it in the end of this problem\n",
    "<img src=\"vorticity_N1024_Re10000.0_tau0.001.gif\" />"
   ]
  },
  {
   "cell_type": "markdown",
   "metadata": {
    "id": "Ah9fdiBxLNbm"
   },
   "source": [
    "# Fourier-Galerkin pseudospectral method\n",
    "\n",
    "Fourier series expansion based methods are often used for solving problems with periodic boundary conditions. One of the most accurate methods for solving the Navier–Stokes equations in periodic domains is **the pseudospectral method**, which exploits the Fast Fourier Transform (FFT) algorithm. \n",
    "\n",
    "Outline: the main idea of spectral methods is to write the solution of a differential equation as a sum of certain \"basis functions\" (e.g. Fourier series, Chebyshev polynomials etc) and then to choose the coefficients in the sum in order to satisfy the differential equation as well as possible.\n",
    "\n",
    "Comprehensive survey of such methods can be found in [this book](https://depts.washington.edu/ph506/Boyd.pdf).\n",
    "\n",
    "### Discrete Fourier Transform\n",
    "\n",
    "We discretize the domain $[0,L_x]\\times[0, L_y]$ by introducing a computation **grid** consisting of $N_x \\times N_y$ equally spaced points.\n",
    "\n",
    "The discrete grid coordinates for $i = 0, 1, \\ldots, N_x$ and $j = 0, 1, \\ldots, N_y$ are given by:\n",
    "\n",
    "$$x_i = \\frac{i L_x}{N_x}, \\quad y_j = \\frac{j L_y}{N_y}.$$\n",
    "\n",
    "Note, that since the domain is periodic $x_0 = x_{N_x}$ and $y_0 = y_{N_y}$.\n",
    "\n",
    " Then, any discrete function $u_{i,j} = u(x_i,y_j)$ can be transformed to the Fourier space using the Discrete Fourier Transform (DFT):\n",
    "\n",
    "$$ \\tilde{u}_{m,n} = \\sum_{i = 0}^{N_x - 1}\\sum_{j = 0}^{N_y - 1} u_{i, j}e^{-\n",
    "\\mathbf{i}(\\frac{2\\pi m}{L_x}x_i + \\frac{2\\pi n}{L_y}y_j)},$$\n",
    "\n",
    "and its inverse transform is:\n",
    "\n",
    "$$ u_{i,j} = \\frac{1}{N_x N_y} \\sum_{m = -\\frac{N_x}{2}}^{\\frac{N_x}{2} - 1}\\sum_{n = -\\frac{N_y}{2}}^{\\frac{N_y}{2} - 1} \\tilde{u}_{m, n}e^{\\mathbf{i}(\\frac{2\\pi m}{L_x}x_i + \\frac{2\\pi n}{L_y}y_j)},$$\n",
    "\n",
    "where $i$ and $j$ represent indices for the physical space (i.e. coordinates in the introduced grid), $m$ and $n$ are indices in the Fourier space (i.e. frequencies). \n",
    "\n",
    "\n",
    "We also introduce wavenumbers:\n",
    "\n",
    "$$k_x = \\frac{2\\pi m}{L_x}, \\quad k_y = \\frac{2 \\pi n}{L_y}.$$\n",
    "\n",
    "\n",
    "**Bonus question:** how DFT coefficients $\\tilde{u}_{m,n}$ relate to coefficients in the truncated Fourier series of $u(x,y)$?"
   ]
  },
  {
   "cell_type": "markdown",
   "metadata": {
    "id": "BKdWilYKLNbm"
   },
   "source": [
    "### Differentiation\n",
    "In Fourier space we can easily perform differentiation with respect to $x$ and $y$. For example, the\n",
    "first and the second order derivatives of any function $u$ in discrete\n",
    "domain becomes:\n",
    "\n",
    "$$ \\left(\\dfrac{\\partial u}{\\partial x}\\right)_{i,j} = \\frac{1}{N_x N_y}\\sum_{m = -\\frac{N_x}{2}}^{\\frac{N_x}{2} - 1}\\sum_{n = \\frac{N_y}{2}}^{\\frac{N_y}{2} - 1} \\tilde{u}_{m, n} (\\mathbf{i}k_x) e^{\\mathbf{i}(k_x x_i + k_y y_j)}, $$\n",
    "\n",
    "$$ \\left(\\dfrac{\\partial^2 u}{\\partial x^2}\\right)_{i,j} = \\frac{1}{N_x N_y}\\sum_{m = -\\frac{N_x}{2}}^{\\frac{N_x}{2} - 1}\\sum_{n = -\\frac{N_y}{2}}^{\\frac{N_y}{2} - 1} \\tilde{u}_{m, n} (-k_x^2) e^{\\mathbf{i}(k_x x_i + k_y y_j)}, $$\n",
    "\n",
    "and similarly for the derivatives w.r.t. $y$ "
   ]
  },
  {
   "cell_type": "markdown",
   "metadata": {
    "id": "K_KVpb9-LNbm"
   },
   "source": [
    "Assume $L_x = L_y = L = 2\\pi$, $N_x = N_y = N$ for simplicity. Then, differentiation $\\frac{\\partial}{\\partial x}$ in the Fourier space can be implemented as follows:"
   ]
  },
  {
   "cell_type": "code",
   "execution_count": 1048,
   "metadata": {
    "id": "hMwgh7KHLNbm"
   },
   "outputs": [],
   "source": [
    "import numpy as np\n",
    "import matplotlib.pyplot as plt"
   ]
  },
  {
   "cell_type": "code",
   "execution_count": 1049,
   "metadata": {
    "id": "TNWE2W07LNbn"
   },
   "outputs": [],
   "source": [
    "def dudx(u_tilde, N):\n",
    "    k1d = np.fft.fftfreq(N) * N\n",
    "    return u_tilde * (1j * k1d)"
   ]
  },
  {
   "cell_type": "markdown",
   "metadata": {
    "id": "s-i4x0sFLNbn"
   },
   "source": [
    " Note, we use ```np.fft.fftfreq(N)``` to determine the order of frequencies for certain ```numpy``` implementation (see the documentation of ```numpy.fft``` module for details)."
   ]
  },
  {
   "cell_type": "markdown",
   "metadata": {
    "id": "szOCo2qELNbn"
   },
   "source": [
    "Consider the following example:"
   ]
  },
  {
   "cell_type": "code",
   "execution_count": 1050,
   "metadata": {
    "id": "r8eSqxvlLNbn"
   },
   "outputs": [],
   "source": [
    "L = 2*np.pi # size of computational domain\n",
    "d = 7\n",
    "N = 2**d"
   ]
  },
  {
   "cell_type": "code",
   "execution_count": 1051,
   "metadata": {
    "colab": {
     "base_uri": "https://localhost:8080/"
    },
    "id": "IYyS1OZOLNbn",
    "outputId": "ef96c9cc-69fa-49e6-df64-69b0913c9f12"
   },
   "outputs": [
    {
     "name": "stdout",
     "output_type": "stream",
     "text": [
      "error =  5.437108258986234e-13\n"
     ]
    }
   ],
   "source": [
    "# discretize the domain $[0, 2\\pi] \\times [0, 2\\pi]$ with uniform grid\n",
    "\n",
    "ls = np.linspace(0, L, N, endpoint=False)\n",
    "xx, yy = np.meshgrid(ls, ls, indexing='xy')\n",
    "\n",
    "# define simple periodic function\n",
    "u = np.sin(xx) * np.sin(yy) \n",
    "\n",
    "# first, compute du/dx analytically\n",
    "u_x = np.cos(xx) * np.sin(yy) \n",
    "\n",
    "# next, compute du/dx in Fourier space\n",
    "u_tilde = np.fft.fft2(u)\n",
    "u_tilde_x = dudx(u_tilde, N)\n",
    "u_x_fourier = np.fft.ifft2(u_tilde_x)\n",
    "\n",
    "# check the result\n",
    "err = np.linalg.norm(u_x - u_x_fourier)\n",
    "print(\"error = \", err)"
   ]
  },
  {
   "cell_type": "markdown",
   "metadata": {
    "id": "o_fbUD3fLNbo"
   },
   "source": [
    "- (5 pts) Similarly with the implementation of ```dudx(u_tilde, N)``` given above, your first task is to implement other derivatives arising in the Navier-Stokes equtions (1), (2). Loops are prohibited!"
   ]
  },
  {
   "cell_type": "code",
   "execution_count": 1258,
   "metadata": {
    "id": "8_iqf5UILNbo"
   },
   "outputs": [],
   "source": [
    "def dudy(u_tilde, N):\n",
    "    k1d = (np.fft.fftfreq(N) * N).reshape((-1, 1))\n",
    "    return u_tilde * (1j * k1d)\n",
    "\n",
    "def d2udx2(u_tilde, N):\n",
    "    k1d = np.fft.fftfreq(N) * N\n",
    "    return u_tilde * (- k1d ** 2)\n",
    " \n",
    "def d2udy2(u_tilde, N):\n",
    "    k1d = (np.fft.fftfreq(N) * N).reshape((-1, 1))\n",
    "    return u_tilde * (- k1d ** 2)"
   ]
  },
  {
   "cell_type": "markdown",
   "metadata": {
    "id": "SOwtcSntLNbo"
   },
   "source": [
    "### Navier-Stokes equations in the Fourier space\n",
    "\n",
    "After transforming Eq. (1) and Eq. (2) to the Fourier space, the governing equations become:\n",
    "\n",
    "\\begin{equation}\\tag{3}\n",
    "\\frac{\\partial \\tilde{\\omega}_{m,n}}{\\partial t} = \\frac{1}{Re}[(-k_x^2 - k_y^2)\\tilde{\\omega}_{m,n}] - \\tilde{N},\n",
    "\\end{equation}\n",
    "\n",
    "\\begin{equation}\\tag{4}\n",
    "(-k_x^2 - k_y^2)\\tilde{\\psi}_{m,n} = -\\tilde{\\omega}_{m,n},\n",
    "\\end{equation}\n",
    "\n",
    "where $\\tilde{N}$ represents the non-linear term which is computed using 2D convolutions as follows:\n",
    "\n",
    "$$\\tilde{N} = (\\mathbf{i}k_y \\tilde{\\psi}_{m,n}) \\circ (\\mathbf{i}k_x \\tilde{\\omega}_{m,n}) - (\\mathbf{i}k_x \\tilde{\\psi}_{m,n}) \\circ (\\mathbf{i}k_y \\tilde{\\omega}_{m,n}),$$\n",
    "\n",
    "i.e. multiplications in physical space become convolutions in the Fourier space.\n",
    "\n",
    "To clarify where these convolutions come from, consider two discrete functions $u$ and $v$ represented by their DFT (1D for simplicity):\n",
    "\n",
    "$$ u_{i} = \\frac{1}{N_x} \\sum_{m = -\\frac{N_x}{2}}^{\\frac{N_x}{2} - 1} \\tilde{u}_{m}e^{\\mathbf{i}\\frac{2\\pi m}{L_x}x_i},$$\n",
    "\n",
    "$$ v_{i} = \\frac{1}{N_x} \\sum_{n = -\\frac{N_x}{2}}^{\\frac{N_x}{2} - 1}\\tilde{v}_{n}e^{\\mathbf{i}\\frac{2\\pi n}{L_x}x_i}.$$\n",
    "\n",
    "Then, the direct multiplication results in:\n",
    "$$ u_{i} v_{i} = \\frac{1}{N_x} \\sum_{k = -N_x}^{N_x - 2} \\frac{1}{N_x}\\tilde{w}_{k}e^{\\mathbf{i}\\frac{2\\pi k}{L_x}x_i},$$\n",
    "where the coefficients $\\tilde{\\omega}_k$ are computed as follows (check it!):\n",
    "\n",
    "$$\\tilde{w}_{k} = \\sum_{m + n = k}\\tilde{u}_m\\tilde{v}_n.$$\n"
   ]
  },
  {
   "cell_type": "markdown",
   "metadata": {
    "id": "X53g1Axh9z8J"
   },
   "source": [
    "Below we provide a possible implementation of 2D convolution using ```scipy.signal``` module. Note, that *full* convolution introduces higher frequinces that should be truncated in a proper way."
   ]
  },
  {
   "cell_type": "code",
   "execution_count": 1260,
   "metadata": {
    "id": "U7eNRddgxAEX"
   },
   "outputs": [],
   "source": [
    "from scipy import signal\n",
    "\n",
    "def conv2d_scipy(u_tilde, v_tilde, N):\n",
    "    # np.fft.fftshift is used to align implementation and formulas\n",
    "    full_conv = signal.convolve(np.fft.fftshift(u_tilde),\\\n",
    "                              np.fft.fftshift(v_tilde), mode='full')\n",
    "    trunc_conv = full_conv[N//2:-N//2+1, N//2:-N//2+1]\n",
    "    return np.fft.ifftshift(trunc_conv)/(N*N)\n"
   ]
  },
  {
   "cell_type": "markdown",
   "metadata": {
    "id": "_IAxdiWzLNbo"
   },
   "source": [
    "(10 pts) Your second task is to implement the same 2D convolution but using the *Convolution Theorem* in this time.\n",
    "\n",
    "\n",
    " \n",
    " Hint:  From the lecture course you should know that applying *Convolution Theorem* is straightforward when computing **circular** (or periodic) convolutions. However, for this task you should use an appropriate zero-padding by a factor of two (with further truncation)."
   ]
  },
  {
   "cell_type": "code",
   "execution_count": 1310,
   "metadata": {
    "id": "7bTYKIdXLNbo"
   },
   "outputs": [],
   "source": [
    "from numpy.fft import ifft2, fft2, fftshift, ifftshift\n",
    "\n",
    "def conv2d(u_tilde, v_tilde, N):\n",
    "    pad_u_tilde = np.zeros((2*N-1, 2*N-1), dtype=complex)\n",
    "    pad_u_tilde[:N, :N] = fftshift(u_tilde)\n",
    "    \n",
    "    pad_v_tilde = np.zeros((2*N-1, 2*N-1), dtype=complex)\n",
    "    pad_v_tilde[:N, :N] = fftshift(v_tilde)\n",
    "    \n",
    "    conv = ifft2(fft2(pad_u_tilde) * fft2(pad_v_tilde))\n",
    "    res = ifftshift(conv[N//2:-N//2+1, N//2:-N//2+1]) / N ** 2\n",
    "    \n",
    "    return res"
   ]
  },
  {
   "cell_type": "code",
   "execution_count": 1294,
   "metadata": {
    "colab": {
     "base_uri": "https://localhost:8080/"
    },
    "id": "8UNflW9B7Nfc",
    "outputId": "1f25d8b1-6ffc-45c6-cacf-34fd56c90cd3"
   },
   "outputs": [
    {
     "name": "stdout",
     "output_type": "stream",
     "text": [
      "error = 4.5448054856840566e-15\n"
     ]
    }
   ],
   "source": [
    "# check yourself\n",
    "\n",
    "u_tilde = np.random.rand(N, N)\n",
    "v_tilde = np.random.rand(N, N)\n",
    "\n",
    "err = np.linalg.norm(conv2d(u_tilde, v_tilde, N) - conv2d_scipy(u_tilde, v_tilde, N))\n",
    "print(\"error =\", err) # should be close to machine precision"
   ]
  },
  {
   "cell_type": "markdown",
   "metadata": {
    "id": "StUuTtmZLNbp"
   },
   "source": [
    "**Poisson solver**\n",
    "\n",
    "Finally, we need to solve the Poisson equation Eq. (2) which can be easily computed in the Fourier space according to the Eq. (4).\n"
   ]
  },
  {
   "cell_type": "markdown",
   "metadata": {
    "id": "qbeHRb9_LNbp"
   },
   "source": [
    "(5 pts) Implement inverse of the laplacian operator according to the template provided below. Note: the laplacian operator with periodic boundary conditions is singular (since the constant function is in nullspace). So, in order to avoid division by zero:\n",
    "1. Assume the problem is always consistent (i.e. $\\tilde{\\omega}_{0,0} = 0$), \n",
    "2. Assume $\\tilde{\\psi}_{0,0} = 0$ (i.e. return normal solution). Loops are prohibited!"
   ]
  },
  {
   "cell_type": "code",
   "execution_count": 1295,
   "metadata": {
    "id": "QuHidp2VLNbp"
   },
   "outputs": [],
   "source": [
    "def laplace_inverse(omega_tilde, N):\n",
    "    kx = np.fft.fftfreq(N) * N\n",
    "    ky = (np.fft.fftfreq(N) * N).reshape((-1, 1))\n",
    "    k = kx ** 2 + ky ** 2\n",
    "    k[0, 0] = 1\n",
    "    \n",
    "    omega_tilde[0, 0] = 0\n",
    "    psi_tilde = omega_tilde / k\n",
    "    psi_tilde[0, 0] = 0\n",
    "    \n",
    "    return psi_tilde"
   ]
  },
  {
   "cell_type": "code",
   "execution_count": 1296,
   "metadata": {
    "colab": {
     "base_uri": "https://localhost:8080/"
    },
    "id": "RPdfcex2LNbp",
    "outputId": "7bb7d57a-59ee-4cd3-cf16-3c6ce0d4f4f1"
   },
   "outputs": [
    {
     "name": "stdout",
     "output_type": "stream",
     "text": [
      "error = 1.8562051106140542e-14\n"
     ]
    }
   ],
   "source": [
    "# check yourself\n",
    "\n",
    "# consider simple solution\n",
    "sol_analytic = np.sin(xx)*np.sin(yy)\n",
    "\n",
    "# compute corresponding right hand side analytically\n",
    "rhs = 2*np.sin(xx)*np.sin(yy)\n",
    "\n",
    "# solve Poisson problem in Fourier space\n",
    "rhs_tilde = np.fft.fft2(rhs)\n",
    "sol_tilde = laplace_inverse(rhs_tilde, N)\n",
    "sol = np.fft.ifft2(sol_tilde)\n",
    "\n",
    "# check error is small\n",
    "err = np.linalg.norm(sol - sol_analytic)\n",
    "print(\"error =\", err)"
   ]
  },
  {
   "cell_type": "markdown",
   "metadata": {
    "id": "RTxV3rB1LNbp"
   },
   "source": [
    "**Time integration**\n",
    "\n",
    "Eqs. (3) and (4) can be considered as semi-discrete ordinary differential equations (ODEs) obtained after (spectral) spatial discretization of the partial differential equations (1) and (2):\n",
    "\n",
    "\\begin{equation}\\tag{5}\n",
    "\\frac{d \\tilde{\\omega}}{dt} = \\mathcal{L}(\\tilde{\\omega}, \\tilde{\\psi}),\n",
    "\\end{equation}\n",
    "\n",
    "where $\\mathcal{L}( \\tilde{\\omega} , \\tilde{\\psi})$ is the discrete operator of spatial derivatives including non-linear convective terms, linear diffusive terms, and $\\tilde{\\psi}$ which is obtained from the Poisson equation (4)."
   ]
  },
  {
   "cell_type": "markdown",
   "metadata": {
    "id": "ClUFyKUNLNbp"
   },
   "source": [
    "(5 pts) Implement $\\mathcal{L}$ according to the template provided below"
   ]
  },
  {
   "cell_type": "code",
   "execution_count": 1297,
   "metadata": {
    "id": "6RJPSno0LNbp"
   },
   "outputs": [],
   "source": [
    "# def L_op(omega_tilde, psi_tilde, N, Re=1):\n",
    "#     return (d2udx2(omega_tilde, N) + d2udy2(omega_tilde, N)) / Re - \\\n",
    "#             (dudy(psi_tilde, N) * dudx(omega_tilde, N) - dudx(psi_tilde, N) * dudy(omega_tilde, N))\n",
    "\n",
    "def L_op(omega_tilde, psi_tilde, N, Re=1):\n",
    "    kx = np.fft.fftfreq(N) * N\n",
    "    ky = (np.fft.fftfreq(N) * N).reshape((-1, 1))\n",
    "    \n",
    "    N_tilde = conv2d(1j * ky * psi_tilde, 1j * kx * omega_tilde, N) - \\\n",
    "                conv2d(1j * kx * psi_tilde, 1j * ky * omega_tilde, N)\n",
    "    \n",
    "    return ((-kx ** 2 - ky ** 2) * omega_tilde) / Re - N_tilde"
   ]
  },
  {
   "cell_type": "markdown",
   "metadata": {
    "id": "hEFXzm_sLNbp"
   },
   "source": [
    "We integrate in time using fourth-order Runge–Kutta scheme that can be written in the following form:\n",
    "\n",
    "$$\\tilde{\\omega}^{(1)} = \\tilde{\\omega}^{n} + \\frac{\\Delta t}{2}\\mathcal{L}(\\tilde{\\omega}^{n}, \\tilde{\\psi}^{n})$$\n",
    "\n",
    "$$\\tilde{\\omega}^{(2)} = \\tilde{\\omega}^{n} + \\frac{\\Delta t}{2}\\mathcal{L}(\\tilde{\\omega}^{(1)}, \\tilde{\\psi}^{(1)})$$\n",
    "\n",
    "$$\\tilde{\\omega}^{(3)} = \\tilde{\\omega}^{n} + \\Delta t\\mathcal{L}(\\tilde{\\omega}^{(2)}, \\tilde{\\psi}^{(2)})$$\n",
    "\n",
    "$$\\tilde{\\omega}^{n+1} = \\frac{1}{3}(-\\tilde{\\omega}^{n} + \\tilde{\\omega}^{(1)} + 2\\tilde{\\omega}^{(2)} + \\tilde{\\omega}^{(3)}) + \\frac{\\Delta t}{6}\\mathcal{L}(\\tilde{\\omega}^{3}, \\tilde{\\psi}^{3})$$\n",
    "\n"
   ]
  },
  {
   "cell_type": "code",
   "execution_count": 1298,
   "metadata": {
    "id": "mprhIsHqDclg"
   },
   "outputs": [],
   "source": [
    "def integrate_runge_kutta(omega0_tilde, N, n_steps, tau, Re):\n",
    "    omega_prev = omega0_tilde\n",
    "    psi_prev = laplace_inverse(-omega_prev, N)\n",
    "    for step in range(n_steps):\n",
    "        if(step%100 == 0):\n",
    "            print(step)\n",
    "        omega_1 = omega_prev + (tau/2)*L_op(omega_prev, psi_prev, N, Re)\n",
    "        psi_1 = -laplace_inverse(omega_1, N)\n",
    "\n",
    "        omega_2 = omega_prev + (tau/2)*L_op(omega_1, psi_1, N, Re)\n",
    "        psi_2 = -laplace_inverse(omega_2, N)\n",
    "\n",
    "        omega_3 = omega_prev + tau*L_op(omega_2, psi_2, N, Re)\n",
    "        psi_3 = -laplace_inverse(omega_3, N)\n",
    "\n",
    "        omega_next = (1./3)*(-omega_prev + omega_1 + 2*omega_2 + omega_3) + (tau/6)*L_op(omega_3, psi_3, N, Re)\n",
    "        psi_next = -laplace_inverse(omega_next, N)\n",
    "\n",
    "        omega_prev = omega_next\n",
    "        psi_prev = psi_next\n",
    "        \n",
    "    return omega_prev"
   ]
  },
  {
   "cell_type": "markdown",
   "metadata": {
    "id": "WVKZWf75PXfT"
   },
   "source": [
    "### Validation with analytical solution\n",
    "\n",
    "We first consider the Taylor-Green vortex (known analytical solution of the Navier-Stokes equations) to validate our solver:"
   ]
  },
  {
   "cell_type": "code",
   "execution_count": 1299,
   "metadata": {
    "id": "9w-D3m0NLNbp"
   },
   "outputs": [],
   "source": [
    "# Taylor-Green vortex -- analytical solution for validation purposes\n",
    "\n",
    "def taylor_green_vortex(xx, yy, t, N, Re):\n",
    "    k = 3\n",
    "    omega = 2*k*np.cos(k*xx)*np.cos(k*yy)*np.exp(-2*k**2*t*(1/Re))\n",
    "    return omega"
   ]
  },
  {
   "cell_type": "code",
   "execution_count": 1300,
   "metadata": {
    "colab": {
     "base_uri": "https://localhost:8080/"
    },
    "id": "EU1B6MJNFOUP",
    "outputId": "a63df8f8-84d4-454e-9350-6ba809f8dc65"
   },
   "outputs": [
    {
     "name": "stdout",
     "output_type": "stream",
     "text": [
      "0\n"
     ]
    }
   ],
   "source": [
    "Re = 1000\n",
    "tau = 1e-2 # timestep\n",
    "n_steps = 100\n",
    "T = tau * n_steps # finial time\n",
    "\n",
    "omega0 = taylor_green_vortex(xx, yy, 0, N, Re) # initial vorticity\n",
    "omega0_tilde = np.fft.fft2(omega0) # convert to the Fourier space\n",
    "omegaT_tilde = integrate_runge_kutta(omega0_tilde, N, n_steps, tau, Re) # integrate in time in the Fourier space\n",
    "omegaT = np.real(np.fft.ifft2(omegaT_tilde)) # return back to physical space"
   ]
  },
  {
   "cell_type": "code",
   "execution_count": 1301,
   "metadata": {
    "colab": {
     "base_uri": "https://localhost:8080/"
    },
    "id": "DVuBWU0KJ7ht",
    "outputId": "d18b4a88-3d59-47fb-9b4a-17e185ac93bb"
   },
   "outputs": [
    {
     "name": "stdout",
     "output_type": "stream",
     "text": [
      "error = 2.3006290227772388e-12\n"
     ]
    }
   ],
   "source": [
    "# check the error is small\n",
    "\n",
    "omegaT_analytical = taylor_green_vortex(xx, yy, T, N, Re) \n",
    "err = np.linalg.norm(omegaT_analytical - omegaT)\n",
    "print(\"error =\", err)"
   ]
  },
  {
   "cell_type": "markdown",
   "metadata": {
    "id": "R6L9qInoONrh"
   },
   "source": [
    "### Shear layer problem\n",
    "\n",
    "Finaly, we consider another (more interesting) initial vorticity that gives the dynamic from the GIF in the beginning of this problem."
   ]
  },
  {
   "cell_type": "code",
   "execution_count": 1302,
   "metadata": {
    "id": "RvPTLSBBFTWy"
   },
   "outputs": [],
   "source": [
    "# intial condition that evolves like a vortex\n",
    "\n",
    "def shear_layer0(xx, yy, N):\n",
    "    delta = 0.05\n",
    "    sigma = 15/np.pi\n",
    "    a = delta*np.cos(yy[:, :N//2]) - sigma*(np.cosh(sigma*(xx[:, :N//2] - np.pi/2)))**(-2)\n",
    "    b = delta*np.cos(yy[:, N//2:]) + sigma*(np.cosh(sigma*(3*np.pi/2 - xx[:, N//2:])))**(-2)\n",
    "    return np.concatenate((a, b), axis=1)"
   ]
  },
  {
   "cell_type": "code",
   "execution_count": 1307,
   "metadata": {
    "colab": {
     "base_uri": "https://localhost:8080/"
    },
    "id": "5o0pb_glFdiB",
    "outputId": "b84ceca1-50b6-439a-937f-0cc40e8f6d4e"
   },
   "outputs": [
    {
     "name": "stdout",
     "output_type": "stream",
     "text": [
      "0\n",
      "100\n",
      "200\n",
      "300\n",
      "400\n",
      "500\n",
      "600\n",
      "700\n",
      "800\n",
      "900\n",
      "1000\n",
      "1100\n",
      "1200\n",
      "1300\n",
      "1400\n",
      "1500\n",
      "1600\n",
      "1700\n",
      "1800\n",
      "1900\n",
      "2000\n",
      "2100\n",
      "2200\n",
      "2300\n",
      "2400\n",
      "2500\n",
      "2600\n",
      "2700\n",
      "2800\n",
      "2900\n",
      "3000\n",
      "3100\n",
      "3200\n",
      "3300\n",
      "3400\n",
      "3500\n",
      "3600\n",
      "3700\n",
      "3800\n",
      "3900\n",
      "4000\n",
      "4100\n",
      "4200\n",
      "4300\n",
      "4400\n",
      "4500\n",
      "4600\n",
      "4700\n",
      "4800\n",
      "4900\n",
      "5000\n",
      "5100\n",
      "5200\n",
      "5300\n",
      "5400\n",
      "5500\n",
      "5600\n",
      "5700\n",
      "5800\n",
      "5900\n",
      "6000\n",
      "6100\n",
      "6200\n",
      "6300\n",
      "6400\n",
      "6500\n",
      "6600\n",
      "6700\n",
      "6800\n",
      "6900\n",
      "7000\n",
      "7100\n",
      "7200\n",
      "7300\n",
      "7400\n",
      "7500\n",
      "7600\n",
      "7700\n",
      "7800\n",
      "7900\n",
      "8000\n",
      "8100\n",
      "8200\n",
      "8300\n",
      "8400\n",
      "8500\n",
      "8600\n",
      "8700\n",
      "8800\n",
      "8900\n",
      "9000\n",
      "9100\n",
      "9200\n",
      "9300\n",
      "9400\n",
      "9500\n",
      "9600\n",
      "9700\n",
      "9800\n",
      "9900\n"
     ]
    }
   ],
   "source": [
    "Re = 10000\n",
    "tau = 1e-3 # timestep\n",
    "n_steps = 10000\n",
    "T = tau * n_steps # finial time\n",
    "\n",
    "omega0 = shear_layer0(xx, yy, N) # initial vorticity\n",
    "omega0_tilde = np.fft.fft2(omega0) # convert to the Fourier space\n",
    "omegaT_tilde = integrate_runge_kutta(omega0_tilde, N, n_steps, tau, Re) # integrate in time in the Fourier space\n",
    "omegaT = np.real(np.fft.ifft2(omegaT_tilde)) # return back to physical space"
   ]
  },
  {
   "cell_type": "code",
   "execution_count": 1308,
   "metadata": {
    "colab": {
     "base_uri": "https://localhost:8080/",
     "height": 285
    },
    "id": "oYoqeLYmLNbp",
    "outputId": "f2766c56-1877-491a-a82c-2775e1ed3967"
   },
   "outputs": [
    {
     "data": {
      "text/plain": [
       "<matplotlib.image.AxesImage at 0x7fba1c499d60>"
      ]
     },
     "execution_count": 1308,
     "metadata": {},
     "output_type": "execute_result"
    },
    {
     "data": {
      "image/png": "[encoded data removed]",
      "text/plain": [
       "<Figure size 432x288 with 1 Axes>"
      ]
     },
     "metadata": {
      "needs_background": "light"
     },
     "output_type": "display_data"
    }
   ],
   "source": [
    "# plot the solution at the final timestamp\n",
    "plt.imshow(omegaT, cmap='jet')"
   ]
  },
  {
   "cell_type": "code",
   "execution_count": 1309,
   "metadata": {},
   "outputs": [
    {
     "data": {
      "text/plain": [
       "<matplotlib.image.AxesImage at 0x7fba1d5db220>"
      ]
     },
     "execution_count": 1309,
     "metadata": {},
     "output_type": "execute_result"
    },
    {
     "data": {
      "image/png": "[encoded data removed]",
      "text/plain": [
       "<Figure size 432x288 with 1 Axes>"
      ]
     },
     "metadata": {
      "needs_background": "light"
     },
     "output_type": "display_data"
    }
   ],
   "source": [
    "plt.imshow(omega0, cmap='jet')"
   ]
  },
  {
   "cell_type": "code",
   "execution_count": null,
   "metadata": {},
   "outputs": [],
   "source": []
  }
 ],
 "metadata": {
  "kernelspec": {
   "display_name": "Python 3",
   "language": "python",
   "name": "python3"
  },
  "language_info": {
   "codemirror_mode": {
    "name": "ipython",
    "version": 3
   },
   "file_extension": ".py",
   "mimetype": "text/x-python",
   "name": "python",
   "nbconvert_exporter": "python",
   "pygments_lexer": "ipython3",
   "version": "3.8.3"
  },
  "toc": {
   "base_numbering": 1,
   "nav_menu": {},
   "number_sections": true,
   "sideBar": true,
   "skip_h1_title": false,
   "title_cell": "Table of Contents",
   "title_sidebar": "Contents",
   "toc_cell": false,
   "toc_position": {},
   "toc_section_display": true,
   "toc_window_display": false
  }
 },
 "nbformat": 4,
 "nbformat_minor": 2
}
