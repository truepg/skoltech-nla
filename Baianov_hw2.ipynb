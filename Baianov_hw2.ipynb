{
 "cells": [
  {
   "cell_type": "code",
   "execution_count": 16,
   "metadata": {},
   "outputs": [],
   "source": [
    "import numpy as np\n",
    "import scipy.sparse as spsp\n",
    "import matplotlib.pyplot as plt\n",
    "from tqdm.notebook import tqdm\n",
    "from scipy.linalg import lu\n",
    "from scipy.sparse import diags"
   ]
  },
  {
   "cell_type": "markdown",
   "metadata": {
    "id": "t9v1vX4-OGIT"
   },
   "source": [
    "# Problem set 2 (35 + 55 + 15 + 28 = 133 pts)"
   ]
  },
  {
   "cell_type": "markdown",
   "metadata": {
    "id": "FOMNJ4TcOGIV"
   },
   "source": [
    "## Problem 1 (LU decomposition) 35 pts\n"
   ]
  },
  {
   "cell_type": "markdown",
   "metadata": {
    "id": "pYHDl6ppOGIV"
   },
   "source": [
    "### 1. LU for band matrices (7 pts)\n",
    "\n",
    "The complexity to find an LU decomposition of a dense $n\\times n$ matrix is $\\mathcal{O}(n^3)$.\n",
    "Significant reduction in complexity can be achieved if the matrix has a certain structure, e.g. it is sparse. \n",
    "In the following task we consider an important example of $LU$ for a special type of sparse matrices –– band matrices with the bandwidth $m$ equal to 3 or 5 which called tridiagonal and pentadiagonal respectively.\n",
    "\n",
    "- (5 pts) Write a function ```band_lu(diag_broadcast, n)``` which computes LU decomposition for tridiagonal or pentadiagonal matrix with given diagonal values. \n",
    "For example, input parametres ```(diag_broadcast = [4,-2,1], n = 4)``` mean that we need to find LU decomposition for the triangular matrix of the form:\n",
    "\n",
    "$$A = \\begin{pmatrix}\n",
    "-2 & 1 & 0 & 0\\\\\n",
    "4 & -2 & 1 & 0 \\\\\n",
    "0 & 4 & -2 & 1 \\\\\n",
    "0 & 0 & 4 & -2 \\\\\n",
    "\\end{pmatrix}.$$\n",
    "\n",
    "As an output it is considered to make ```L``` and ```U``` - 2D arrays representing diagonals in factors $L$ (```L[0]``` keeps first lower diagonal, ```L[1]``` keeps second lower, ...), and $U$ (```U[:,0]``` keeps main diagonal, ```U[:,1]``` keeps first upper, ...).\n",
    "- (2 pts) Compare execution time of the band LU decomposition using standard function from ```scipy```, i.e. which takes the whole matrix and does not know about its special structure, and band decomposition of yours implementation. Comment on the results."
   ]
  },
  {
   "cell_type": "markdown",
   "metadata": {},
   "source": [
    "### 1.1"
   ]
  },
  {
   "cell_type": "code",
   "execution_count": 2,
   "metadata": {
    "id": "BvY7icWBOGIW"
   },
   "outputs": [],
   "source": [
    "from scipy.sparse import diags # can be used with broadcasting of scalars if desired dimensions are large\n",
    "import numpy as np\n",
    "\n",
    "# INPUT : diag_broadcast - list of diagonals value to broadcast,length equal to 3 or 5; n - integer, band matrix shape.\n",
    "# OUTPUT : L - 2D np.ndarray, L.shape[0] depends on bandwidth, L.shape[1] = n-1, do not store main diagonal, where all ones; add zeros to the right side of rows to handle with changing length of diagonals.\n",
    "#          U - 2D np.ndarray, U.shape[0] = n, U.shape[1] depends on bandwidth;\n",
    "#              add zeros to the bottom of columns to handle with changing length of diagonals.\n",
    "\n",
    "def band_lu(diag_broadcast, n):\n",
    "    if len(diag_broadcast) == 3:\n",
    "        d = np.ones(n) * diag_broadcast[1]\n",
    "        b = np.ones(n-1) * diag_broadcast[2]\n",
    "        a = np.ones(n) * diag_broadcast[0]\n",
    "        a[-1] = 0\n",
    "\n",
    "        dd = np.empty(n)\n",
    "        bb = np.empty(n-1)\n",
    "\n",
    "        dd[0] = d[0]\n",
    "\n",
    "        for i in range(1, n):\n",
    "            bb[i-1] = b[i-1] / dd[i-1]\n",
    "            dd[i] = d[i] - bb[i-1] * a[i-1]\n",
    "\n",
    "        L = bb.reshape((1, n-1))\n",
    "        U = np.vstack((dd, a)).T\n",
    "\n",
    "        return L, U\n",
    "    \n",
    "    elif len(diag_broadcast) == 5:\n",
    "        a = np.ones(n) * diag_broadcast[0]\n",
    "        b = np.ones(n) * diag_broadcast[1]\n",
    "        c = np.ones(n) * diag_broadcast[2]\n",
    "        d = np.ones(n) * diag_broadcast[3]\n",
    "        e = np.ones(n) * diag_broadcast[4]\n",
    "\n",
    "        a[:2] = np.zeros(2)\n",
    "        b[0] = 0\n",
    "        d[-1] = 0\n",
    "        e[-2:] = np.zeros(2)\n",
    "\n",
    "        f = np.zeros(n)\n",
    "        g = np.zeros(n)\n",
    "        h = np.zeros(n)\n",
    "        k = np.zeros(n)\n",
    "        l = e\n",
    "\n",
    "        for i in range(n):\n",
    "            if i == 0:\n",
    "                h[i] = c[i]\n",
    "                k[i] = d[i]\n",
    "            elif i == 1:\n",
    "                g[i] = b[i] / h[i-1]\n",
    "                k[i] = d[i] - g[i] * l[i-1]\n",
    "                h[i] = c[i] - g[i] * k[i-1]\n",
    "            else:\n",
    "                f[i] = a[i] / h[i-2]\n",
    "                g[i] = (b[i] - f[i] * k[i-2]) / h[i-1]\n",
    "                h[i] = c[i] - f[i] * l[i-2] - g[i] * k[i-1]\n",
    "                k[i] = d[i] - g[i] * l[i-1]\n",
    "\n",
    "        L = np.vstack((g[1:], np.roll(f[1:], -1)))\n",
    "        U = np.vstack((h, k, l)).T\n",
    "\n",
    "        return L, U\n",
    "    \n",
    "    else:\n",
    "        raise NotImplementedError() "
   ]
  },
  {
   "cell_type": "code",
   "execution_count": 3,
   "metadata": {},
   "outputs": [],
   "source": [
    "diag_broadcast_3 = [-1, 2, -1]\n",
    "diag_broadcast_5 = [-1, 2, -1, -4, 9]\n",
    "\n",
    "def matrix_from_diags(diag_broadcast, n):\n",
    "    if len(diag_broadcast) == 3:\n",
    "        return np.eye(n) * diag_broadcast[1] + np.diag(np.ones(n-1) * diag_broadcast[0], -1) + \\\n",
    "    np.diag(np.ones(n-1) * diag_broadcast[2], 1)\n",
    "    \n",
    "    elif len(diag_broadcast) == 5:\n",
    "        return np.eye(n) * diag_broadcast[2] + np.diag(np.ones(n-1) * diag_broadcast[1], -1) + \\\n",
    "    np.diag(np.ones(n-1) * diag_broadcast[3], 1) + np.diag(np.ones(n-2) * diag_broadcast[0], -2) + \\\n",
    "    np.diag(np.ones(n-2) * diag_broadcast[4], 2)"
   ]
  },
  {
   "cell_type": "markdown",
   "metadata": {},
   "source": [
    "### 1.2"
   ]
  },
  {
   "cell_type": "code",
   "execution_count": 64,
   "metadata": {},
   "outputs": [
    {
     "data": {
      "application/vnd.jupyter.widget-view+json": {
       "model_id": "98d5f2a22b4f42219429f2eeaeaa9631",
       "version_major": 2,
       "version_minor": 0
      },
      "text/plain": [
       "HBox(children=(FloatProgress(value=0.0, max=10.0), HTML(value='')))"
      ]
     },
     "metadata": {},
     "output_type": "display_data"
    },
    {
     "name": "stdout",
     "output_type": "stream",
     "text": [
      "\n"
     ]
    }
   ],
   "source": [
    "from tqdm.notebook import tqdm\n",
    "from scipy.linalg import lu\n",
    "\n",
    "ours_time_3 = []\n",
    "sp_time_3 = []\n",
    "ours_time_5 = []\n",
    "sp_time_5 = []\n",
    "n_range = np.linspace(10, 1000, 10, dtype=int)\n",
    "\n",
    "for n in tqdm(n_range):\n",
    "    A = matrix_from_diags(diag_broadcast_3, n)\n",
    "    ours = %timeit -oq band_lu(diag_broadcast_3, n)\n",
    "    ours_time_3.append(ours.average)\n",
    "    sp = %timeit -oq lu(A)\n",
    "    sp_time_3.append(sp.average)\n",
    "    \n",
    "    A = matrix_from_diags(diag_broadcast_5, n)\n",
    "    ours = %timeit -oq band_lu(diag_broadcast_5, n)\n",
    "    ours_time_5.append(ours.average)\n",
    "    sp = %timeit -oq lu(A)\n",
    "    sp_time_5.append(sp.average)"
   ]
  },
  {
   "cell_type": "code",
   "execution_count": 84,
   "metadata": {},
   "outputs": [
    {
     "data": {
      "image/png": "[encoded data removed]",
      "text/plain": [
       "<Figure size 432x288 with 1 Axes>"
      ]
     },
     "metadata": {
      "needs_background": "light"
     },
     "output_type": "display_data"
    }
   ],
   "source": [
    "import matplotlib.pyplot as plt\n",
    "\n",
    "plt.plot(n_range, ours_time_3, marker='x')\n",
    "plt.plot(n_range, sp_time_3, marker='x')\n",
    "plt.title('Running time comparison for tridiagonal matrix')\n",
    "plt.xlabel('$n$ (matrix size)')\n",
    "plt.ylabel('Time')\n",
    "plt.legend(['our', 'scipy'])\n",
    "plt.grid();"
   ]
  },
  {
   "cell_type": "code",
   "execution_count": 86,
   "metadata": {},
   "outputs": [
    {
     "data": {
      "image/png": "[encoded data removed]",
      "text/plain": [
       "<Figure size 432x288 with 1 Axes>"
      ]
     },
     "metadata": {
      "needs_background": "light"
     },
     "output_type": "display_data"
    }
   ],
   "source": [
    "plt.plot(n_range, ours_time_5, marker='x')\n",
    "plt.plot(n_range, sp_time_5, marker='x')\n",
    "plt.title('Running time comparison for pentadiagonal matrix')\n",
    "plt.xlabel('$n$ (matrix size)')\n",
    "plt.ylabel('Time')\n",
    "plt.legend(['our', 'scipy'])\n",
    "plt.grid();"
   ]
  },
  {
   "cell_type": "markdown",
   "metadata": {},
   "source": [
    "As can be seen, our implementation is a much faster, than a scipy version. SciPy doesn't know about matrix structure, so it works $O(n^3)$, however, our implementation complexity is $O(n)$."
   ]
  },
  {
   "cell_type": "markdown",
   "metadata": {
    "id": "_iM6NwHQOGId"
   },
   "source": [
    "### 2. Stability of LU (8 pts)\n",
    "\n",
    "Let\n",
    "$A = \\begin{pmatrix}\n",
    "\\varepsilon & 1 & 0\\\\\n",
    "1 & 1 & 1 \\\\\n",
    "0 & 1 & 1\n",
    "\\end{pmatrix}.$ \n",
    "* (5 pts) Find analytically LU decomposition with and without pivoting for the matrix $A$.\n",
    "* (3 pts) Explain, why can the LU decomposition fail to approximate factors $L$ and $U$ for $|\\varepsilon|\\ll 1$ in computer arithmetic?"
   ]
  },
  {
   "cell_type": "markdown",
   "metadata": {},
   "source": [
    "## 2.1\n",
    "\n",
    "Without pivoting:\n",
    "\n",
    "1. $A = \\begin{pmatrix}\n",
    "\\varepsilon & 1 & 0\\\\\n",
    "1 & 1 & 1 \\\\\n",
    "0 & 1 & 1\n",
    "\\end{pmatrix}$ => \n",
    "$\\begin{pmatrix}\n",
    "\\varepsilon & 1 & 0\\\\\n",
    "0 & 1 - \\frac{1}{\\varepsilon} & 1 \\\\\n",
    "0 & 1 & 1\n",
    "\\end{pmatrix}$ = \n",
    "$\\begin{pmatrix}\n",
    "\\varepsilon & 1 & 0\\\\\n",
    "0 & \\frac{\\varepsilon - 1}{\\varepsilon} & 1 \\\\\n",
    "0 & 1 & 1\n",
    "\\end{pmatrix}$ = \n",
    "$\\begin{pmatrix}\n",
    "\\varepsilon & 1 & 0\\\\\n",
    "0 & \\frac{\\varepsilon - 1}{\\varepsilon} & 1 \\\\\n",
    "0 & 0 & 1 - \\frac{\\varepsilon}{\\varepsilon - 1}\n",
    "\\end{pmatrix}$ = \n",
    "$\\begin{pmatrix}\n",
    "\\varepsilon & 1 & 0\\\\\n",
    "0 & \\frac{\\varepsilon - 1}{\\varepsilon} & 1 \\\\\n",
    "0 & 0 & \\frac{1}{1 - \\varepsilon}\n",
    "\\end{pmatrix}$ = $U$\n",
    "\n",
    "2. $L = \\begin{pmatrix}\n",
    "1 & 0 & 0\\\\\n",
    "l_1 & 1 & 0 \\\\\n",
    "l_2 & l_3 & 1\n",
    "\\end{pmatrix}$\n",
    "\n",
    "3. $a_{21} = 1 = l_1 \\varepsilon + 1 \\times 0 + 0 \\times 0 = l_1 \\varepsilon => l_1 = \\frac{1}{\\varepsilon}$\n",
    "$\\\\ a_{33} = 1 = l_2 \\times 0 + l_3 \\times 1 + 1\\times \\frac{1}{1 - \\varepsilon} = l_3 + \\frac{1}{1 - \\varepsilon} => l_3 = 1 - \\frac{1}{1 - \\varepsilon} = \\frac{\\varepsilon}{\\varepsilon - 1}$\n",
    "$\\\\ a_{32} = 1 = l_2 \\times 1 + l_3 \\times \\frac{\\varepsilon - 1}{\\varepsilon} + 1 \\times 0 = l_2 + \\frac{\\varepsilon}{\\varepsilon - 1} \\times \\frac{\\varepsilon - 1}{\\varepsilon} = l_2 + 1 => l_2 = 0$\n",
    "\n",
    "4. $L = \\begin{pmatrix}\n",
    "1 & 0 & 0\\\\\n",
    "\\frac{1}{\\varepsilon} & 1 & 0 \\\\\n",
    "0 & \\frac{\\varepsilon}{\\varepsilon - 1} & 1\n",
    "\\end{pmatrix}$,\n",
    "$U =\\begin{pmatrix}\n",
    "\\varepsilon & 1 & 0\\\\\n",
    "0 & \\frac{\\varepsilon - 1}{\\varepsilon} & 1 \\\\\n",
    "0 & 0 & \\frac{1}{1 - \\varepsilon}\n",
    "\\end{pmatrix}$\n",
    "\n",
    "\n",
    "With pivoting:\n",
    "\n",
    "1. $A = \\begin{pmatrix}\n",
    "\\varepsilon & 1 & 0\\\\\n",
    "1 & 1 & 1 \\\\\n",
    "0 & 1 & 1\n",
    "\\end{pmatrix}$,\n",
    "$P = \\begin{pmatrix}\n",
    "1 & 0 & 0\\\\\n",
    "0 & 1 & 0 \\\\\n",
    "0 & 0 & 1\n",
    "\\end{pmatrix}$, \n",
    "$U = A$, $L = I$\n",
    "\n",
    "2. Swap rows 1 and 2:\n",
    "$\\\\ U = \\begin{pmatrix}\n",
    "1 & 1 & 1\\\\\n",
    "\\varepsilon & 1 & 0 \\\\\n",
    "0 & 1 & 1\n",
    "\\end{pmatrix} \\to\n",
    "\\begin{pmatrix}\n",
    "1 & 1 & 1\\\\\n",
    "0 & 1 - \\varepsilon & - \\varepsilon \\\\\n",
    "0 & 1 & 1\n",
    "\\end{pmatrix}$\n",
    "$\\\\ L = \\begin{pmatrix}\n",
    "1 & 0  & 0\\\\\n",
    "\\varepsilon & 1 & 0 \\\\\n",
    "0 & 0 & 1\n",
    "\\end{pmatrix}$\n",
    "$P = \\begin{pmatrix}\n",
    "0 & 1 & 0\\\\\n",
    "1 & 0 & 0 \\\\\n",
    "0 & 0 & 1\n",
    "\\end{pmatrix}$\n",
    "\n",
    "3. Swap rows 2 and 3:\n",
    "$\\\\ U = \\begin{pmatrix}\n",
    "1 & 1 & 1\\\\\n",
    "0 & 1 & 1 \\\\\n",
    "0 & 1 - \\varepsilon & - \\varepsilon\n",
    "\\end{pmatrix} \\to\n",
    "\\begin{pmatrix}\n",
    "1 & 1 & 1\\\\\n",
    "0 & 1 & 1 \\\\\n",
    "0 & 0 & -1\n",
    "\\end{pmatrix} $\n",
    "$\\\\ L = \\begin{pmatrix}\n",
    "1 & 0  & 0\\\\\n",
    "0 & 1 & 0 \\\\\n",
    "\\varepsilon & 1 - \\varepsilon & 1\n",
    "\\end{pmatrix}$\n",
    "$P = \\begin{pmatrix}\n",
    "0 & 1 & 0\\\\\n",
    "0 & 0 & 1 \\\\\n",
    "1 & 0 & 0\n",
    "\\end{pmatrix}$\n",
    "\n",
    "4. $L = \\begin{pmatrix}\n",
    "1 & 0  & 0\\\\\n",
    "0 & 1 & 0 \\\\\n",
    "\\varepsilon & 1 - \\varepsilon & 1\n",
    "\\end{pmatrix}$,\n",
    "$U = \\begin{pmatrix}\n",
    "1 & 1 & 1\\\\\n",
    "0 & 1 & 1 \\\\\n",
    "0 & 0 & -1\n",
    "\\end{pmatrix} $,\n",
    "$P = \\begin{pmatrix}\n",
    "0 & 1 & 0\\\\\n",
    "0 & 0 & 1 \\\\\n",
    "1 & 0 & 0\n",
    "\\end{pmatrix}$\n"
   ]
  },
  {
   "cell_type": "markdown",
   "metadata": {},
   "source": [
    "## 2.2\n",
    "\n",
    "LU decomposition can fail for the following example:\n",
    "\n",
    "$A = \\begin{pmatrix}\n",
    "\\varepsilon & 1 & 0\\\\\n",
    "1 & 1 & 1 \\\\\n",
    "0 & 1 & 1\n",
    "\\end{pmatrix}$ => \n",
    "$\\begin{pmatrix}\n",
    "\\varepsilon & 1 & 0\\\\\n",
    "0 & 1 - \\frac{1}{\\varepsilon} & 1 \\\\\n",
    "0 & 1 & 1\n",
    "\\end{pmatrix}$\n",
    "\n",
    "We try to subtract $\\frac{1}{\\varepsilon}$ from $1$. As $|\\varepsilon|\\ll 1$, $\\frac{1}{\\varepsilon}$ is something large, comparing to $1$. So, we have a trouble for dealing with large and small numbers."
   ]
  },
  {
   "cell_type": "markdown",
   "metadata": {
    "id": "EQwdRJSIOGIg"
   },
   "source": [
    "### 3. Block LU (10 pts)\n",
    "\n",
    "Let $A = \\begin{bmatrix} A_{11} & A_{12} \\\\ A_{21} & A_{22} \\end{bmatrix}$ be a block matrix. The goal is to solve the linear system\n",
    "\n",
    "$$\n",
    "     \\begin{bmatrix} A_{11} & A_{12} \\\\ A_{21} & A_{22} \\end{bmatrix} \\begin{bmatrix} u_1 \\\\ u_2 \\end{bmatrix} = \\begin{bmatrix} f_1 \\\\ f_2 \\end{bmatrix}.\n",
    "$$\n",
    "\n",
    "* (2 pts) Using block elimination find matrix $S$ and right-hand side $\\hat{f_2}$ so that $u_2$ can be found from $S u_2 = \\hat{f_2}$. Note that the matrix $S$ is called <font color='red'> Schur complement </font> of the block $A_{11}$.\n",
    "* (4 pts) Using Schur complement properties prove that \n",
    "\n",
    "$$\\det(X+AB) = \\det(X)\\det(I+BX^{-1}A), $$\n",
    "\n",
    "\n",
    "where $X$ - nonsingular square matrix.\n",
    "* (4 pts) Let matrix $F \\in \\mathbb{R}^{m \\times n}$ and $G \\in \\mathbb{R}^{n \\times m}$. Prove that \n",
    "\n",
    "$$\\det(I_m - FG) = \\det(I_n - GF).$$"
   ]
  },
  {
   "cell_type": "markdown",
   "metadata": {},
   "source": [
    "## 3.1\n",
    "\n",
    "1. Suppose, $A_{11}^{-1}$ exists.\n",
    "2. $T = \\begin{bmatrix} I & 0 \\\\ -A_{21}A_{11}^{-1} & I \\end{bmatrix} => TA = \\begin{bmatrix} A_{11} & A_{12} \\\\ 0 & S \\end{bmatrix}$, where $S = A_{21}A_{11}^{-1}A_{12} + A_{22}$\n",
    "3. $Tf = \\begin{bmatrix} f_1 \\\\ -A_{21}A_{11}^{-1}f_1 + f_2 \\end{bmatrix} => \\hat{f_2} = -A_{21}A_{11}^{-1}f_1 + f_2$"
   ]
  },
  {
   "cell_type": "markdown",
   "metadata": {},
   "source": [
    "## 3.2\n",
    "\n",
    "1. Compose the block matrix $M =\\begin{bmatrix} I & -B \\\\ A & X \\end{bmatrix} \\to \\begin{bmatrix} I & -B \\\\ 0 & X + AB\\end{bmatrix} => \\det(M) = \\begin{vmatrix} I & -B \\\\ 0 & X + AB \\end{vmatrix} = \\det(I) \\det(X + AB) = \\det(X + AB)$\n",
    "\n",
    "2. Using Schur complement property, $\\det(M) = \\det(X) \\det(I + BX^{-1}A)$\n",
    "\n",
    "3. Using conclusions from 1 and 2, $\\det(M) = \\det(X + AB) = \\det(X) \\det(I + BX^{-1}A)$\n",
    "\n",
    "4. But let's prove Schur complement property\n",
    "\n",
    "5. Let $P = \\begin{bmatrix} A & B \\\\ C & D\\end{bmatrix}$ and $L = \\begin{bmatrix} I & 0 \\\\ -D^{-1}C & I \\end{bmatrix}$\n",
    "\n",
    "6. Then $PL = \\begin{bmatrix} A - BD^{-1}C & B \\\\ 0 & D\\end{bmatrix} = \\begin{bmatrix} I & BD^{-1} \\\\ 0 & I \\end{bmatrix} \\begin{bmatrix} A - BD^{-1}C & 0 \\\\ 0 & D\\end{bmatrix} => P = \\begin{bmatrix} I & BD^{-1} \\\\ 0 & I \\end{bmatrix} \\begin{bmatrix} A - BD^{-1}C & 0 \\\\ 0 & D\\end{bmatrix} \\begin{bmatrix} I & 0 \\\\ -D^{-1}C & I \\end{bmatrix}$\n",
    "\n",
    "7. $\\det(P) = \\det(\\begin{bmatrix} I & BD^{-1} \\\\ 0 & I \\end{bmatrix} \\begin{bmatrix} A - BD^{-1}C & 0 \\\\ 0 & D\\end{bmatrix} \\begin{bmatrix} I & 0 \\\\ -D^{-1}C & I \\end{bmatrix}) = \\det(\\begin{bmatrix} I & BD^{-1} \\\\ 0 & I \\end{bmatrix}) \\det(\\begin{bmatrix} A - BD^{-1}C & 0 \\\\ 0 & D\\end{bmatrix}) \\det(\\begin{bmatrix} I & 0 \\\\ -D^{-1}C & I \\end{bmatrix}) = 1 \\times \\det(\\begin{bmatrix} A - BD^{-1}C & 0 \\\\ 0 & D\\end{bmatrix}) \\times 1 = \\det(\\begin{bmatrix} A - BD^{-1}C & 0 \\\\ 0 & D\\end{bmatrix}) = \\det(A - BD^{-1}C) \\det(D)$"
   ]
  },
  {
   "cell_type": "markdown",
   "metadata": {},
   "source": [
    "## 3.3\n",
    "\n",
    "1. $\\begin{vmatrix} I_n & G \\\\ F & I_m \\end{vmatrix} = \\begin{vmatrix} I_n & G \\\\ 0 & I_m - FG \\end{vmatrix} = \\det(I_n) \\det(I_m - FG) = \\det(I_m - FG)$\n",
    "\n",
    "2. $\\begin{vmatrix} I_n & G \\\\ F & I_m \\end{vmatrix} = \\begin{vmatrix} I_n - GF & 0 \\\\ F & I_m \\end{vmatrix} = \\det(I_m) \\det(I_n - GF) = \\det(I_n - GF)$\n",
    "\n",
    "3. As can be seen from the 1 and 2, $\\det(I_m - FG) = \\det(I_n - GF)$"
   ]
  },
  {
   "cell_type": "markdown",
   "metadata": {
    "id": "YFc3BR_TOGIj"
   },
   "source": [
    "### 4. Efficient implementation of LU decomposition (10 pts)\n",
    "\n",
    "In the lecture we provide naive implementation of LU factorization with loops and elementwise update of factors. In this subproblem we ask you to provide more efficient implementation of LU factorization and explain how you derive this implementation (main ideas and how you use them in this particular case). \n",
    "- (1 pts) Main idea for speed up computation of LU factorization (without using built-in function!) \n",
    "- (4 pts) Implement the presented approach to speed up LU \n",
    "- (1 pts) Illustrate numerically that your implementation is correct\n",
    "- (2 pts) Provide the comparison of running time of naive implementation from the lecture, your implementation and NumPy built-in function for range of matrix dimensions. We expect you plot the running time vs matrix dimension for these implementations. So you should get the plot with three lines.\n",
    "- (2 pts) Discuss the obtained results and explain what other tricks are possible to accelerate computing the LU factorization. \n",
    "\n",
    "NumPy or JAX are both ok in this subproblem, but please use the single library for all implementations. "
   ]
  },
  {
   "cell_type": "markdown",
   "metadata": {},
   "source": [
    "### 4.1\n",
    "The idea is a simple. Vectorize it!"
   ]
  },
  {
   "cell_type": "code",
   "execution_count": 7,
   "metadata": {
    "id": "4RBDYAWUOGIj"
   },
   "outputs": [
    {
     "name": "stdout",
     "output_type": "stream",
     "text": [
      "L * U - A:\n",
      " [[0. 0.]\n",
      " [0. 0.]]\n"
     ]
    },
    {
     "data": {
      "text/plain": [
       "(array([[1.e+00, 0.e+00],\n",
       "        [1.e+04, 1.e+00]]),\n",
       " array([[ 1.000e-04,  1.000e+00],\n",
       "        [ 0.000e+00, -9.999e+03]]))"
      ]
     },
     "execution_count": 7,
     "metadata": {},
     "output_type": "execute_result"
    }
   ],
   "source": [
    "# Your solution is here\n",
    "\n",
    "import numpy as np\n",
    "\n",
    "eps = 1e-4#1.12e-16\n",
    "a = [[eps, 1],[1.0,  1]]\n",
    "a = np.array(a)\n",
    "a0 = a.copy()\n",
    "\n",
    "def naive_LU(a):\n",
    "    n = a.shape[0]\n",
    "    L = np.zeros((n, n))\n",
    "    U = np.zeros((n, n))\n",
    "    for k in range(n): #Eliminate one row   \n",
    "        L[k, k] = 1\n",
    "        for i in range(k+1, n):\n",
    "            L[i, k] = a[i, k] / a[k, k]\n",
    "            for j in range(k+1, n):\n",
    "                a[i, j] += -L[i, k] * a[k, j]\n",
    "        for j in range(k, n):\n",
    "            U[k, j] = a[k, j]\n",
    "            \n",
    "    return L, U\n",
    "\n",
    "L, U = naive_LU(a)\n",
    "print('L * U - A:\\n', np.dot(L, U) - a0)\n",
    "L, U"
   ]
  },
  {
   "cell_type": "markdown",
   "metadata": {},
   "source": [
    "### 4.2 "
   ]
  },
  {
   "cell_type": "code",
   "execution_count": 2,
   "metadata": {},
   "outputs": [],
   "source": [
    "def efficient_LU(A):\n",
    "    N = A.shape[0]\n",
    "    A_prev = A.copy()\n",
    "    L = np.eye(N)\n",
    "    \n",
    "    for n in range(N-1):\n",
    "        L_cur = np.eye(N)\n",
    "        i = n + 1\n",
    "        L_cur[i:, n] = -A_prev[i:, n] / A_prev[n, n]\n",
    "        L[i:, n] = A_prev[i:, n] / A_prev[n, n]\n",
    "        \n",
    "        A_cur = L_cur @ A_prev\n",
    "        A_prev = A_cur\n",
    "        \n",
    "    return L, A_cur"
   ]
  },
  {
   "cell_type": "markdown",
   "metadata": {},
   "source": [
    "### 4.3"
   ]
  },
  {
   "cell_type": "code",
   "execution_count": 3,
   "metadata": {},
   "outputs": [
    {
     "data": {
      "text/plain": [
       "0.0"
      ]
     },
     "execution_count": 3,
     "metadata": {},
     "output_type": "execute_result"
    }
   ],
   "source": [
    "L, U = efficient_LU(a)\n",
    "np.linalg.norm(L @ U - a)"
   ]
  },
  {
   "cell_type": "markdown",
   "metadata": {},
   "source": [
    "### 4.4"
   ]
  },
  {
   "cell_type": "code",
   "execution_count": 19,
   "metadata": {},
   "outputs": [
    {
     "data": {
      "application/vnd.jupyter.widget-view+json": {
       "model_id": "6d3ec02e662e4342b9490731fd7d8d4e",
       "version_major": 2,
       "version_minor": 0
      },
      "text/plain": [
       "HBox(children=(FloatProgress(value=0.0, max=10.0), HTML(value='')))"
      ]
     },
     "metadata": {},
     "output_type": "display_data"
    },
    {
     "name": "stdout",
     "output_type": "stream",
     "text": [
      "\n"
     ]
    }
   ],
   "source": [
    "from scipy.linalg import lu\n",
    "from tqdm.notebook import tqdm\n",
    "\n",
    "N_num = 10\n",
    "N_range = np.linspace(10, 500, N_num, dtype=int)\n",
    "time = np.zeros((3, N_num))\n",
    "\n",
    "for N_ind, N in enumerate(tqdm(N_range)):\n",
    "    A_rand = np.random.rand(N ** 2).reshape((N, N))\n",
    "    \n",
    "    t = %timeit -oq efficient_LU(A_rand)\n",
    "    time[0, N_ind] = t.average\n",
    "    \n",
    "    t = %timeit -oq naive_LU(A_rand)\n",
    "    time[1, N_ind] = t.average\n",
    "    \n",
    "    t = %timeit -oq lu(A_rand)\n",
    "    time[2, N_ind] = t.average"
   ]
  },
  {
   "cell_type": "code",
   "execution_count": 21,
   "metadata": {},
   "outputs": [
    {
     "data": {
      "image/png": "[encoded data removed]",
      "text/plain": [
       "<Figure size 432x288 with 1 Axes>"
      ]
     },
     "metadata": {
      "needs_background": "light"
     },
     "output_type": "display_data"
    }
   ],
   "source": [
    "plt.plot(range(N_num), time[0], marker='x')\n",
    "plt.plot(range(N_num), time[1], marker='x')\n",
    "plt.plot(range(N_num), time[2], marker='x')\n",
    "plt.legend(['Efficient LU', 'Naive LU', 'SciPy LU'])\n",
    "plt.xlabel('$N$, size of square matrix')\n",
    "plt.ylabel('Time')\n",
    "plt.title('Comparison of LU decomposition algorithms');"
   ]
  },
  {
   "cell_type": "markdown",
   "metadata": {},
   "source": [
    "###  4.5\n",
    "Another possible trick to accelerate LU decomposition is an usage of block implementation."
   ]
  },
  {
   "cell_type": "markdown",
   "metadata": {
    "id": "8DaPAmZPOGIm"
   },
   "source": [
    "## Problem 2 (eigenvalues)  55 pts\n",
    "\n",
    "### 1. Theoretical tasks (10 pts)\n",
    "\n",
    "* (5 pts) Prove that normal matrix is Hermitian iff its eigenvalues are real. Prove that normal matrix is unitary iff its eigenvalues satisfy $|\\lambda| = 1$. \n",
    "\n",
    "* (5 pts) The following problem illustrates instability of the Jordan form. Find theoretically the eigenvalues of the perturbed Jordan block:\n",
    "\n",
    "$$\n",
    "    J(\\varepsilon) = \n",
    "    \\begin{bmatrix} \n",
    "     \\lambda & 1 & & & 0 \\\\ \n",
    "     & \\lambda & 1 & & \\\\ \n",
    "     &  & \\ddots & \\ddots & \\\\ \n",
    "     & & & \\lambda & 1 \\\\ \n",
    "     \\varepsilon & & & & \\lambda  \\\\ \n",
    "    \\end{bmatrix}_{n\\times n}\n",
    "$$\n",
    "\n",
    "Comment how eigenvalues of $J(0)$ are perturbed for large $n$."
   ]
  },
  {
   "cell_type": "markdown",
   "metadata": {},
   "source": [
    "### 1.1"
   ]
  },
  {
   "cell_type": "markdown",
   "metadata": {},
   "source": [
    "1. $A$ - normal matrix => $A = U \\Lambda U^*$\n",
    "2. Eigenvalues are real and $\\Lambda$ is a diagonal => $\\Lambda^* = \\Lambda$\n",
    "3. $A^* = (U \\Lambda U^*)^* = ((U \\Lambda) U^*)^* = U(U \\Lambda)^* = U \\Lambda^* U^* = \\{\\Lambda^* = \\Lambda\\ \\} = U \\Lambda U^*$\n",
    "4. $A = A^* => A$ (normal matrix) is Hermitian"
   ]
  },
  {
   "cell_type": "markdown",
   "metadata": {},
   "source": [
    "1. $A$ - normal matrix => $A = U \\Lambda U^*$, where $U$ is an unitary matrix\n",
    "2. $A^* = (U \\Lambda U^*)^* = ((U \\Lambda) U^*)^* = U(U \\Lambda)^* = U \\Lambda^* U^*$\n",
    "3. $AA^* = U \\Lambda U^* U \\Lambda^* U^* = \\{UU^* = I\\} = U \\Lambda \\Lambda^* U^*$\n",
    "4. $\\Lambda \\Lambda^* = \\Lambda^* \\Lambda$ - diagonal matrix with diagonal $(|\\lambda_1|, |\\lambda_2|, ..., |\\lambda_n|) = (1, ..., 1)$ => $\\Lambda \\Lambda^* = I$\n",
    "5. $AA^* = U \\Lambda \\Lambda^* U^* = UU^* = I$\n",
    "6. $A^*A = U \\Lambda^* U^* U \\Lambda^* U^* = \\{U^*U = I\\} = U \\Lambda^* \\Lambda U^* = UU^* = I$\n",
    "7. $AA^* = A^*A = I => A$ (normal matrix) is an unitary matrix"
   ]
  },
  {
   "cell_type": "markdown",
   "metadata": {},
   "source": [
    "### 1.2"
   ]
  },
  {
   "cell_type": "markdown",
   "metadata": {},
   "source": [
    "1. Find eigenvalues of $J$: $|J - eI| = 0$,  where e - eigenvalue (because $\\lambda$ is a constant in $J$)\n",
    "$ \\\\\n",
    "    J - eI = \n",
    "    \\begin{bmatrix} \n",
    "     \\lambda - e & 1 & & & 0 \\\\ \n",
    "     & \\lambda - e & 1 & & \\\\ \n",
    "     &  & \\ddots & \\ddots & \\\\ \n",
    "     & & & \\lambda - e & 1 \\\\ \n",
    "     \\varepsilon & & & & \\lambda - e  \\\\ \n",
    "    \\end{bmatrix}_{n\\times n}\n",
    "$\n",
    "\n",
    "$\\\\ |J - eI| = (\\lambda - e)^n + (-1)^{n+1}\\varepsilon = 0$\n",
    "$\\\\ (\\lambda - e)^n = (-1)^n\\varepsilon$\n",
    "$\\\\ (e - \\lambda)^n = \\varepsilon$\n",
    "$\\\\ (e - \\lambda) = (\\pm)^{n-1} \\varepsilon^{\\frac{1}{n}}$\n",
    "$\\\\ e = (\\pm 1)^{n-1} \\varepsilon^{\\frac{1}{n}} + \\lambda$\n",
    "\n",
    "2. $n \\to \\infty$\n",
    "$\\\\ e \\to \\lambda + (\\pm 1)^{n-1}$\n",
    "\n",
    "3. As can be seen from the eigenvalue for large $n$, if we change a little bit matrix (adding $\\varepsilon$), eigenvalues will perturbed from $\\lambda$ to $\\lambda \\pm 1$."
   ]
  },
  {
   "cell_type": "markdown",
   "metadata": {
    "id": "xWcyqKyrOGIp"
   },
   "source": [
    "### 2. PageRank (35 pts)\n",
    "\n",
    "\n",
    "#### Damping factor importance\n",
    "\n",
    "* (5 pts) Write the function ```pagerank_matrix(G)``` that takes an adjacency matrix $G$ (in both sparse and dense formats) as an input and outputs the corresponding PageRank matrix $A$."
   ]
  },
  {
   "cell_type": "markdown",
   "metadata": {},
   "source": [
    "### 2.1"
   ]
  },
  {
   "cell_type": "code",
   "execution_count": 22,
   "metadata": {
    "id": "2jktwIc8OGIp"
   },
   "outputs": [],
   "source": [
    "# INPUT:  G - np.ndarray or sparse matrix\n",
    "# OUTPUT: A - np.ndarray (of size G.shape) or sparse matrix\n",
    "def pagerank_matrix(G):\n",
    "    # enter your code here\n",
    "    if type(G) == np.ndarray:\n",
    "        return G / G.sum(axis=0)\n",
    "    elif type(G) == spsp.csr_matrix:\n",
    "        G = G.T\n",
    "        col_sum = G.sum(axis=0).A1\n",
    "        zero_cnt = col_sum[col_sum == 0].shape[0]\n",
    "        col_sum[col_sum == 0] = np.ones(zero_cnt)\n",
    "        col_sum = 1 / col_sum\n",
    "        norm_diag = spsp.diags(col_sum)\n",
    "        \n",
    "        return G @ norm_diag"
   ]
  },
  {
   "cell_type": "markdown",
   "metadata": {
    "id": "BtVmgGnYOGIs"
   },
   "source": [
    "* (3 pts) Find PageRank matrix $A$ that corresponds to the following graph: <img src=\"graph.png\" width='250'>\n",
    "What is its largest eigenvalue? What multiplicity does it have?\n",
    "\n",
    "\n",
    "* (5 pts) Implement the power method for a given matrix $A$, an initial guess $x_0$ and a number of iterations ```num_iter```. It should be organized as a function ```power_method(A, x0, num_iter)``` that outputs approximation to eigenvector $x$, eigenvalue $\\lambda$ and history of residuals $\\{\\|Ax_k - \\lambda_k x_k\\|_2\\}$. Make sure that the method converges to the correct solution on a matrix $\\begin{bmatrix} 2 & -1 \\\\ -1 & 2 \\end{bmatrix}$ which is known to have the largest eigenvalue equal to $3$."
   ]
  },
  {
   "cell_type": "markdown",
   "metadata": {},
   "source": [
    "### 2.2"
   ]
  },
  {
   "cell_type": "code",
   "execution_count": 34,
   "metadata": {},
   "outputs": [
    {
     "data": {
      "text/plain": [
       "array([[0. , 0.5, 0. , 0. , 0. ],\n",
       "       [0. , 0. , 1. , 0. , 0. ],\n",
       "       [1. , 0.5, 0. , 0. , 0. ],\n",
       "       [0. , 0. , 0. , 0. , 1. ],\n",
       "       [0. , 0. , 0. , 1. , 0. ]])"
      ]
     },
     "execution_count": 34,
     "metadata": {},
     "output_type": "execute_result"
    }
   ],
   "source": [
    "G = np.zeros((5, 5))\n",
    "G[0, 1] = 1\n",
    "G[1, 2] = 1\n",
    "G[2, 0] = 1\n",
    "G[2, 1] = 1\n",
    "G[3, 4] = 1\n",
    "G[4, 3] = 1\n",
    "\n",
    "A = pagerank_matrix(G)\n",
    "A"
   ]
  },
  {
   "cell_type": "code",
   "execution_count": 24,
   "metadata": {},
   "outputs": [
    {
     "data": {
      "text/plain": [
       "array([-0.5+0.5j, -0.5-0.5j,  1. +0.j ,  1. +0.j , -1. +0.j ])"
      ]
     },
     "execution_count": 24,
     "metadata": {},
     "output_type": "execute_result"
    }
   ],
   "source": [
    "np.linalg.eigvals(A)"
   ]
  },
  {
   "cell_type": "markdown",
   "metadata": {},
   "source": [
    "$\\lambda = 1$ is a maximal eigenvalue, which mupliplicity is equal to 2."
   ]
  },
  {
   "cell_type": "markdown",
   "metadata": {},
   "source": [
    "### 2.3"
   ]
  },
  {
   "cell_type": "code",
   "execution_count": 25,
   "metadata": {
    "id": "uLo7A--rOGIs"
   },
   "outputs": [],
   "source": [
    "# INPUT:  A - np.ndarray (2D), x0 - np.ndarray (1D), num_iter - integer (positive)\n",
    "# OUTPUT: x - np.ndarray (of size x0), l - float, res - np.ndarray (of size num_iter + 1 [include initial guess])\n",
    "def power_method(A, x0, num_iter): # 5 pts\n",
    "    # enter your code here\n",
    "    x_prev = x0\n",
    "    x = x0\n",
    "    res = np.zeros(num_iter + 1)\n",
    "    \n",
    "    A_dot_x0 = A @ x0\n",
    "    l = A_dot_x0 @ x0\n",
    "    res[0] = np.linalg.norm(A_dot_x0 - l * x0)\n",
    "    \n",
    "    for i in tqdm(range(num_iter)):\n",
    "#         print(i)\n",
    "        A_dot_x_prev = A @ x_prev\n",
    "        x = A_dot_x_prev / np.linalg.norm(A_dot_x_prev)\n",
    "        \n",
    "        A_dot_x = A @ x\n",
    "        l = A_dot_x @ x\n",
    "        res[i+1] = np.linalg.norm(A_dot_x - l * x)\n",
    "        \n",
    "        x_prev = x\n",
    "    \n",
    "    return x, l, res"
   ]
  },
  {
   "cell_type": "code",
   "execution_count": 26,
   "metadata": {},
   "outputs": [
    {
     "data": {
      "application/vnd.jupyter.widget-view+json": {
       "model_id": "c1a3910ac1104cc28985141e8e917c58",
       "version_major": 2,
       "version_minor": 0
      },
      "text/plain": [
       "HBox(children=(FloatProgress(value=0.0), HTML(value='')))"
      ]
     },
     "metadata": {},
     "output_type": "display_data"
    },
    {
     "name": "stdout",
     "output_type": "stream",
     "text": [
      "\n"
     ]
    },
    {
     "data": {
      "text/plain": [
       "3.0"
      ]
     },
     "execution_count": 26,
     "metadata": {},
     "output_type": "execute_result"
    }
   ],
   "source": [
    "x, l, res = power_method(np.array([[2, -1], [-1, 2]]), np.random.rand(2), 100)\n",
    "l"
   ]
  },
  {
   "cell_type": "markdown",
   "metadata": {
    "id": "9hAowO6zOGIu"
   },
   "source": [
    "* (2 pts) Run the power method for the graph presented above and plot residuals $\\|Ax_k - \\lambda_k x_k\\|_2$ as a function of $k$ for ```num_iter=100``` and random initial guess ```x0```.  Explain the absence of convergence. \n",
    "\n",
    "\n",
    "* (2 pts) Consider the same graph, but with additional self loop at node 4 (self loop is an edge that connects a vertex with itself). Plot residuals as in the previous task and discuss the convergence. Now, run the power method with ```num_iter=100``` for 10 different initial guesses and print/plot the resulting approximated eigenvectors. Why do they depend on the initial guess?\n",
    "\n",
    "\n",
    "In order to avoid this problem Larry Page and Sergey Brin [proposed](http://ilpubs.stanford.edu:8090/422/1/1999-66.pdf) to use the following regularization technique:\n",
    "\n",
    "$$\n",
    "A_d = dA + \\frac{1-d}{N} \\begin{pmatrix} 1 & \\dots & 1 \\\\ \\vdots & & \\vdots \\\\ 1 & \\dots & 1 \\end{pmatrix},\n",
    "$$\n",
    "\n",
    "where $d$ is a small parameter in $[0,1]$ (typically $d=0.85$), which is called **damping factor**, $A$ is of size $N\\times N$. Now $A_d$ is the matrix with multiplicity of the largest eigenvalue equal to 1. \n",
    "Recall that computing the eigenvector of the PageRank matrix, which corresponds to the largest eigenvalue, has the following interpretation. Consider a person who stays in a random node of a graph (i.e. opens a random web page); at each step s/he follows one of the outcoming edges uniformly at random (i.e. opens one of the links). So the person randomly walks through the graph and the eigenvector we are looking for is exactly his/her stationary distribution â€” for each node it tells you the probability of visiting this particular node. Therefore, if the person has started from a part of the graph which is not connected with the other part, he will never get there.  In the regularized model, the person at each step follows one of the outcoming links with probability $d$ OR teleports to a random node from the whole graph with probability $(1-d)$.\n",
    "\n",
    "* (2 pts) Now, run the power method with $A_d$ and plot residuals $\\|A_d x_k - \\lambda_k x_k\\|_2$ as a function of $k$ for $d=0.97$, ```num_iter=100``` and a random initial guess ```x0```.\n",
    "\n",
    "* (5 pts) Find the second largest in the absolute value eigenvalue of the obtained matrix $A_d$. How and why is it connected to the damping factor $d$? What is the convergence rate of the PageRank algorithm when using damping factor?\n",
    "\n",
    "Usually, graphs that arise in various areas are sparse (social, web, road networks, etc.) and, thus, computation of a matrix-vector product for corresponding PageRank matrix $A$ is much cheaper than $\\mathcal{O}(N^2)$. However, if $A_d$ is calculated directly, it becomes dense and, therefore, $\\mathcal{O}(N^2)$ cost grows prohibitively large for  big $N$.\n",
    "\n",
    "\n",
    "* (2 pts) Implement fast matrix-vector product for $A_d$ as a function ```pagerank_matvec(A, d, x)```, which takes a PageRank matrix $A$ (in sparse format, e.g., ```csr_matrix```), damping factor $d$ and a vector $x$ as an input and returns $A_dx$ as an output. \n",
    "\n",
    "* (1 pts) Generate a random adjacency matrix of size $10000 \\times 10000$ with only 100 non-zero elements and compare ```pagerank_matvec``` performance with direct evaluation of $A_dx$."
   ]
  },
  {
   "cell_type": "markdown",
   "metadata": {},
   "source": [
    "### 2.4"
   ]
  },
  {
   "cell_type": "code",
   "execution_count": 27,
   "metadata": {},
   "outputs": [
    {
     "data": {
      "application/vnd.jupyter.widget-view+json": {
       "model_id": "0e4e247bdd0b4eb5b03ab0ae237281f3",
       "version_major": 2,
       "version_minor": 0
      },
      "text/plain": [
       "HBox(children=(FloatProgress(value=0.0), HTML(value='')))"
      ]
     },
     "metadata": {},
     "output_type": "display_data"
    },
    {
     "name": "stdout",
     "output_type": "stream",
     "text": [
      "\n"
     ]
    },
    {
     "data": {
      "image/png": "[encoded data removed]",
      "text/plain": [
       "<Figure size 720x504 with 1 Axes>"
      ]
     },
     "metadata": {
      "needs_background": "light"
     },
     "output_type": "display_data"
    }
   ],
   "source": [
    "x, l, res = power_method(pagerank_matrix(G), np.random.rand(G.shape[0]), 100)\n",
    "\n",
    "plt.figure(figsize=(10, 7))\n",
    "plt.plot(np.arange(101), res)\n",
    "plt.title('Residuals by iteration')\n",
    "plt.ylabel('Residuals')\n",
    "plt.xlabel('$k$, number of iteration')\n",
    "plt.grid();"
   ]
  },
  {
   "cell_type": "code",
   "execution_count": 35,
   "metadata": {},
   "outputs": [
    {
     "data": {
      "text/plain": [
       "array([-0.5+0.5j, -0.5-0.5j,  1. +0.j ,  1. +0.j , -1. +0.j ])"
      ]
     },
     "execution_count": 35,
     "metadata": {},
     "output_type": "execute_result"
    }
   ],
   "source": [
    "np.linalg.eigvals(pagerank_matrix(G))"
   ]
  },
  {
   "cell_type": "markdown",
   "metadata": {},
   "source": [
    "Largest absolute eigenvalues are 1 and -1"
   ]
  },
  {
   "cell_type": "markdown",
   "metadata": {},
   "source": [
    "### 2.5"
   ]
  },
  {
   "cell_type": "code",
   "execution_count": 28,
   "metadata": {},
   "outputs": [
    {
     "data": {
      "application/vnd.jupyter.widget-view+json": {
       "model_id": "e66f363452c04ce0998d3381c3e76798",
       "version_major": 2,
       "version_minor": 0
      },
      "text/plain": [
       "HBox(children=(FloatProgress(value=0.0), HTML(value='')))"
      ]
     },
     "metadata": {},
     "output_type": "display_data"
    },
    {
     "name": "stdout",
     "output_type": "stream",
     "text": [
      "\n"
     ]
    },
    {
     "data": {
      "image/png": "[encoded data removed]",
      "text/plain": [
       "<Figure size 720x504 with 1 Axes>"
      ]
     },
     "metadata": {
      "needs_background": "light"
     },
     "output_type": "display_data"
    }
   ],
   "source": [
    "G[4, 4] = 1\n",
    "x, l, res = power_method(pagerank_matrix(G), np.random.rand(G.shape[0]), 100)\n",
    "plt.figure(figsize=(10, 7))\n",
    "plt.plot(np.arange(101), res)\n",
    "plt.title('Residuals by iteration')\n",
    "plt.ylabel('Residuals')\n",
    "plt.xlabel('$k$, number of iteration')\n",
    "plt.grid();"
   ]
  },
  {
   "cell_type": "code",
   "execution_count": 31,
   "metadata": {},
   "outputs": [
    {
     "data": {
      "text/plain": [
       "array([-0.5+0.5j, -0.5-0.5j,  1. +0.j , -0.5+0.j ,  1. +0.j ])"
      ]
     },
     "execution_count": 31,
     "metadata": {},
     "output_type": "execute_result"
    }
   ],
   "source": [
    "np.linalg.eigvals(pagerank_matrix(G))"
   ]
  },
  {
   "cell_type": "markdown",
   "metadata": {},
   "source": [
    "Largest absolute eigenvalues are 1 and 1"
   ]
  },
  {
   "cell_type": "code",
   "execution_count": 25,
   "metadata": {},
   "outputs": [
    {
     "data": {
      "application/vnd.jupyter.widget-view+json": {
       "model_id": "f7028b47f00b465c96c2bbf854de04cb",
       "version_major": 2,
       "version_minor": 0
      },
      "text/plain": [
       "HBox(children=(FloatProgress(value=0.0), HTML(value='')))"
      ]
     },
     "metadata": {},
     "output_type": "display_data"
    },
    {
     "name": "stdout",
     "output_type": "stream",
     "text": [
      "\n"
     ]
    },
    {
     "data": {
      "application/vnd.jupyter.widget-view+json": {
       "model_id": "c68ea703668e41bba5b85fc8fecc8b62",
       "version_major": 2,
       "version_minor": 0
      },
      "text/plain": [
       "HBox(children=(FloatProgress(value=0.0), HTML(value='')))"
      ]
     },
     "metadata": {},
     "output_type": "display_data"
    },
    {
     "name": "stdout",
     "output_type": "stream",
     "text": [
      "\n"
     ]
    },
    {
     "data": {
      "application/vnd.jupyter.widget-view+json": {
       "model_id": "4d8d981e22f84333857b24fe8b2207f4",
       "version_major": 2,
       "version_minor": 0
      },
      "text/plain": [
       "HBox(children=(FloatProgress(value=0.0), HTML(value='')))"
      ]
     },
     "metadata": {},
     "output_type": "display_data"
    },
    {
     "name": "stdout",
     "output_type": "stream",
     "text": [
      "\n"
     ]
    },
    {
     "data": {
      "application/vnd.jupyter.widget-view+json": {
       "model_id": "27cb216d113f418fa36d3aa7d97d70a5",
       "version_major": 2,
       "version_minor": 0
      },
      "text/plain": [
       "HBox(children=(FloatProgress(value=0.0), HTML(value='')))"
      ]
     },
     "metadata": {},
     "output_type": "display_data"
    },
    {
     "name": "stdout",
     "output_type": "stream",
     "text": [
      "\n"
     ]
    },
    {
     "data": {
      "application/vnd.jupyter.widget-view+json": {
       "model_id": "d7b554718a264b6cb6438373dd3b6688",
       "version_major": 2,
       "version_minor": 0
      },
      "text/plain": [
       "HBox(children=(FloatProgress(value=0.0), HTML(value='')))"
      ]
     },
     "metadata": {},
     "output_type": "display_data"
    },
    {
     "name": "stdout",
     "output_type": "stream",
     "text": [
      "\n"
     ]
    },
    {
     "data": {
      "application/vnd.jupyter.widget-view+json": {
       "model_id": "2b4fabfd3f32484fa46cf42fb30203b8",
       "version_major": 2,
       "version_minor": 0
      },
      "text/plain": [
       "HBox(children=(FloatProgress(value=0.0), HTML(value='')))"
      ]
     },
     "metadata": {},
     "output_type": "display_data"
    },
    {
     "name": "stdout",
     "output_type": "stream",
     "text": [
      "\n"
     ]
    },
    {
     "data": {
      "application/vnd.jupyter.widget-view+json": {
       "model_id": "361774e4154848f2b13264580e9651f3",
       "version_major": 2,
       "version_minor": 0
      },
      "text/plain": [
       "HBox(children=(FloatProgress(value=0.0), HTML(value='')))"
      ]
     },
     "metadata": {},
     "output_type": "display_data"
    },
    {
     "name": "stdout",
     "output_type": "stream",
     "text": [
      "\n"
     ]
    },
    {
     "data": {
      "application/vnd.jupyter.widget-view+json": {
       "model_id": "439988d072a74c968016f8b98548a1ad",
       "version_major": 2,
       "version_minor": 0
      },
      "text/plain": [
       "HBox(children=(FloatProgress(value=0.0), HTML(value='')))"
      ]
     },
     "metadata": {},
     "output_type": "display_data"
    },
    {
     "name": "stdout",
     "output_type": "stream",
     "text": [
      "\n"
     ]
    },
    {
     "data": {
      "application/vnd.jupyter.widget-view+json": {
       "model_id": "924064cd67554363ba332d73da47732a",
       "version_major": 2,
       "version_minor": 0
      },
      "text/plain": [
       "HBox(children=(FloatProgress(value=0.0), HTML(value='')))"
      ]
     },
     "metadata": {},
     "output_type": "display_data"
    },
    {
     "name": "stdout",
     "output_type": "stream",
     "text": [
      "\n"
     ]
    },
    {
     "data": {
      "application/vnd.jupyter.widget-view+json": {
       "model_id": "df8ce3b35cfc4b48808571e6e8092e3c",
       "version_major": 2,
       "version_minor": 0
      },
      "text/plain": [
       "HBox(children=(FloatProgress(value=0.0), HTML(value='')))"
      ]
     },
     "metadata": {},
     "output_type": "display_data"
    },
    {
     "name": "stdout",
     "output_type": "stream",
     "text": [
      "\n"
     ]
    },
    {
     "data": {
      "text/plain": [
       "[array([0.15472368, 0.30944737, 0.30944737, 0.43510409, 0.77151129]),\n",
       " array([0.26839443, 0.53678885, 0.53678885, 0.40177838, 0.43618118]),\n",
       " array([0.10964145, 0.2192829 , 0.2192829 , 0.16913083, 0.92908747]),\n",
       " array([0.26917439, 0.53834878, 0.53834878, 0.31627032, 0.4978749 ]),\n",
       " array([0.20095283, 0.40190566, 0.40190566, 0.63876493, 0.47805962]),\n",
       " array([0.26525818, 0.53051636, 0.53051636, 0.50663495, 0.33175881]),\n",
       " array([0.27141419, 0.54282837, 0.54282837, 0.45819719, 0.35646093]),\n",
       " array([0.27221607, 0.54443214, 0.54443214, 0.54747866, 0.18262755]),\n",
       " array([0.27364049, 0.54728099, 0.54728099, 0.52739397, 0.21896008]),\n",
       " array([0.24530576, 0.49061153, 0.49061153, 0.26279398, 0.62399124])]"
      ]
     },
     "execution_count": 25,
     "metadata": {},
     "output_type": "execute_result"
    }
   ],
   "source": [
    "different_x0 = np.random.rand(G.shape[0] * 10).reshape((10, G.shape[0]))\n",
    "evecs = []\n",
    "for x0 in different_x0:\n",
    "    evecs.append(power_method(pagerank_matrix(G), x0, 100)[0])\n",
    "evecs"
   ]
  },
  {
   "cell_type": "markdown",
   "metadata": {},
   "source": [
    "If there are some largest absolute eigenvalues, convergence depends on sign of these eigenvalues.\n",
    "If signs are different (as before adding self-loop), power method doesn't converge (because it gives a vector that is a linear combination of corresponding eigenvectors); otherwise, signs are the same and power method converges."
   ]
  },
  {
   "cell_type": "markdown",
   "metadata": {},
   "source": [
    "### 2.6"
   ]
  },
  {
   "cell_type": "code",
   "execution_count": 26,
   "metadata": {},
   "outputs": [],
   "source": [
    "def A_d(A, d):\n",
    "    N = A.shape[0]\n",
    "    return d * A + (1 - d) / N * np.ones((N, N))"
   ]
  },
  {
   "cell_type": "code",
   "execution_count": 28,
   "metadata": {},
   "outputs": [
    {
     "data": {
      "application/vnd.jupyter.widget-view+json": {
       "model_id": "bc330a571214496c906a060cb0f5482b",
       "version_major": 2,
       "version_minor": 0
      },
      "text/plain": [
       "HBox(children=(FloatProgress(value=0.0), HTML(value='')))"
      ]
     },
     "metadata": {},
     "output_type": "display_data"
    },
    {
     "name": "stdout",
     "output_type": "stream",
     "text": [
      "\n"
     ]
    },
    {
     "data": {
      "image/png": "[encoded data removed]",
      "text/plain": [
       "<Figure size 720x504 with 1 Axes>"
      ]
     },
     "metadata": {
      "needs_background": "light"
     },
     "output_type": "display_data"
    }
   ],
   "source": [
    "x, l, res = power_method(A_d(pagerank_matrix(G), d=0.87), np.random.rand(G.shape[0]), 100)\n",
    "\n",
    "plt.figure(figsize=(10, 7))\n",
    "plt.plot(np.arange(101), res)\n",
    "plt.title('Residuals by iteration')\n",
    "plt.ylabel('Residuals')\n",
    "plt.xlabel('$k$, number of iteration')\n",
    "plt.grid();"
   ]
  },
  {
   "cell_type": "markdown",
   "metadata": {},
   "source": [
    "### 2.7"
   ]
  },
  {
   "cell_type": "code",
   "execution_count": 29,
   "metadata": {},
   "outputs": [
    {
     "data": {
      "text/plain": [
       "0.97"
      ]
     },
     "execution_count": 29,
     "metadata": {},
     "output_type": "execute_result"
    }
   ],
   "source": [
    "abs_eigvals = sorted(np.abs(np.linalg.eigvals(A_d(pagerank_matrix(G), d=0.97))), reverse=True)\n",
    "abs_eigvals[1]"
   ]
  },
  {
   "cell_type": "markdown",
   "metadata": {},
   "source": [
    "The second largest in the absolute value eigenvalue of the obtained matrix $A_d$ is equal to the damping factor $d$."
   ]
  },
  {
   "cell_type": "code",
   "execution_count": 31,
   "metadata": {},
   "outputs": [
    {
     "data": {
      "text/plain": [
       "'Convergence ratio is equal to 0.047552507925408355'"
      ]
     },
     "execution_count": 31,
     "metadata": {},
     "output_type": "execute_result"
    }
   ],
   "source": [
    "\"Convergence ratio is equal to {}\".format((abs_eigvals[1] / abs_eigvals[0]) ** 100)"
   ]
  },
  {
   "cell_type": "markdown",
   "metadata": {},
   "source": [
    "### 2.8"
   ]
  },
  {
   "cell_type": "code",
   "execution_count": 32,
   "metadata": {
    "id": "4o3LKx5UOGIv"
   },
   "outputs": [],
   "source": [
    "# INPUT:  A - np.ndarray (2D), d - float (from 0.0 to 1.0), x - np.ndarray (1D, size of A.shape[0/1])\n",
    "# OUTPUT: y - np.ndarray (1D, size of x)\n",
    "def pagerank_matvec(A, d, x): # 2 pts\n",
    "    # enter your code here\n",
    "    N = x.shape[0]\n",
    "    return d * A @ x + (1 - d) * np.ones(N) * x.sum() / N"
   ]
  },
  {
   "cell_type": "markdown",
   "metadata": {},
   "source": [
    "### 2.9"
   ]
  },
  {
   "cell_type": "code",
   "execution_count": 33,
   "metadata": {},
   "outputs": [
    {
     "name": "stdout",
     "output_type": "stream",
     "text": [
      "230 µs ± 36.5 µs per loop (mean ± std. dev. of 7 runs, 1000 loops each)\n",
      "98.4 ms ± 5.86 ms per loop (mean ± std. dev. of 7 runs, 10 loops each)\n"
     ]
    },
    {
     "data": {
      "text/plain": [
       "3.4938640006908055e-15"
      ]
     },
     "execution_count": 33,
     "metadata": {},
     "output_type": "execute_result"
    }
   ],
   "source": [
    "sp_A = spsp.random(10000, 10000, density=1e-6).tocsr()\n",
    "x = np.random.rand(10000)\n",
    "d = 0.97\n",
    "sp_A_d = A_d(sp_A.todense(), d)\n",
    "\n",
    "%timeit pagerank_matvec(sp_A, d, x)\n",
    "%timeit sp_A_d @ x\n",
    "\n",
    "sp_A_d_dot_x = pagerank_matvec(sp_A, d, x)\n",
    "A_d_dot_x =  sp_A_d @ x\n",
    "\n",
    "np.linalg.norm(sp_A_d_dot_x - A_d_dot_x.A1)"
   ]
  },
  {
   "cell_type": "code",
   "execution_count": 34,
   "metadata": {},
   "outputs": [
    {
     "data": {
      "text/plain": [
       "((10000,), (10000,))"
      ]
     },
     "execution_count": 34,
     "metadata": {},
     "output_type": "execute_result"
    }
   ],
   "source": [
    "sp_A_d_dot_x.shape, A_d_dot_x.A1.shape"
   ]
  },
  {
   "cell_type": "markdown",
   "metadata": {
    "id": "ru70NGUlOGIy"
   },
   "source": [
    "#### DBLP: computer science bibliography\n",
    "\n",
    "Download the dataset from [here](https://goo.gl/oZVxEa), unzip it and put `dblp_authors.npz`  and `dblp_graph.npz` in the same folder with this notebook. Each value (author name) from `dblp_authors.npz` corresponds to the row/column of the matrix from `dblp_graph.npz`. Value at row `i` and column `j` of the matrix from `dblp_graph.npz` corresponds to the number of times author `i` cited papers of the author `j`. Let us now find the most significant scientists according to PageRank model over DBLP data.\n",
    "\n",
    "* (4 pts) Load the weighted adjacency matrix and the authors list into Python using ```load_dblp(...)``` function. Print its density (fraction of nonzero elements). Find top-10 most cited authors from the weighted adjacency matrix. Now, make all the weights of the adjacency matrix equal to 1 for simplicity (consider only existence of connection between authors, not its weight). Obtain the PageRank matrix $A$ from the adjacency matrix and verify that it is stochastic.\n",
    " \n",
    " \n",
    "* (1 pts) In order to provide ```pagerank_matvec``` to your ```power_method``` (without rewriting it) for fast calculation of $A_dx$, you can create a ```LinearOperator```: \n",
    "```python\n",
    "L = scipy.sparse.linalg.LinearOperator(A.shape, matvec=lambda x, A=A, d=d: pagerank_matvec(A, d, x))\n",
    "```\n",
    "Calling ```L@x``` or ```L.dot(x)``` will result in calculation of ```pagerank_matvec(A, d, x)``` and, thus, you can plug $L$ instead of the matrix $A$ in the ```power_method``` directly. **Note:** though in the previous subtask graph was very small (so you could disparage fast matvec implementation), here it is very large (but sparse), so that direct evaluation of $A_dx$ will require $\\sim 10^{12}$ matrix elements to store - good luck with that (^_<).\n",
    "\n",
    "\n",
    "* (2 pts) Run the power method starting from the vector of all ones and plot residuals $\\|A_dx_k - \\lambda_k x_k\\|_2$  as a function of $k$ for $d=0.85$.\n",
    "\n",
    "\n",
    "* (1 pts) Print names of the top-10 authors according to PageRank over DBLP when $d=0.85$. Comment on your findings."
   ]
  },
  {
   "cell_type": "markdown",
   "metadata": {},
   "source": [
    "### 2.10"
   ]
  },
  {
   "cell_type": "code",
   "execution_count": 4,
   "metadata": {
    "id": "L5ZnW7m-OGIz"
   },
   "outputs": [],
   "source": [
    "from scipy.sparse import load_npz\n",
    "import numpy as np\n",
    "def load_dblp(path_auth, path_graph):\n",
    "    G = load_npz(path_graph).astype(float)\n",
    "    with np.load(path_auth) as data: authors = data['authors']\n",
    "    return G, authors\n",
    "G, authors = load_dblp('dblp_authors.npz', 'dblp_graph.npz')"
   ]
  },
  {
   "cell_type": "code",
   "execution_count": 5,
   "metadata": {
    "id": "QynfixvjOGI1"
   },
   "outputs": [
    {
     "data": {
      "text/plain": [
       "'Density is equal to 4.4986518152305776e-05'"
      ]
     },
     "execution_count": 5,
     "metadata": {},
     "output_type": "execute_result"
    }
   ],
   "source": [
    "'Density is equal to {}'.format(G.nnz / G.shape[0] ** 2)"
   ]
  },
  {
   "cell_type": "code",
   "execution_count": 6,
   "metadata": {},
   "outputs": [],
   "source": [
    "author_weights = G.sum(axis=0).A1\n",
    "top10_cited_author_ids = sorted(list(zip(np.arange(author_weights.shape[0]), author_weights)), key=lambda x: x[1])[-10:]"
   ]
  },
  {
   "cell_type": "code",
   "execution_count": 7,
   "metadata": {},
   "outputs": [
    {
     "data": {
      "text/plain": [
       "array(['Scott Shenker', 'Andrew Zisserman', 'Hari Balakrishnan',\n",
       "       'Jiawei Han', 'Anil K. Jain', 'Cordelia Schmid', 'Jitendra Malik',\n",
       "       'Ion Stoica', 'David E. Culler', 'David G. Lowe'], dtype='<U98')"
      ]
     },
     "execution_count": 7,
     "metadata": {},
     "output_type": "execute_result"
    }
   ],
   "source": [
    "authors[np.array(top10_cited_author_ids, dtype=int)[:, 0]][::-1]"
   ]
  },
  {
   "cell_type": "code",
   "execution_count": 8,
   "metadata": {},
   "outputs": [],
   "source": [
    "pagerank_G1 = pagerank_matrix(spsp.csr_matrix((np.ones(G.nnz), G.indices, G.indptr), shape=G.shape))"
   ]
  },
  {
   "cell_type": "code",
   "execution_count": 9,
   "metadata": {},
   "outputs": [],
   "source": [
    "del G"
   ]
  },
  {
   "cell_type": "code",
   "execution_count": 10,
   "metadata": {},
   "outputs": [
    {
     "data": {
      "text/plain": [
       "(1766547, 1766547)"
      ]
     },
     "execution_count": 10,
     "metadata": {},
     "output_type": "execute_result"
    }
   ],
   "source": [
    "pagerank_G1.shape"
   ]
  },
  {
   "cell_type": "markdown",
   "metadata": {},
   "source": [
    "We can see that simple adding number of citations and PageRank method give the different top-10 cited authors. It seems that PageRank method considers a more deep connections between authors."
   ]
  },
  {
   "cell_type": "markdown",
   "metadata": {},
   "source": [
    "### 2.11"
   ]
  },
  {
   "cell_type": "code",
   "execution_count": 11,
   "metadata": {},
   "outputs": [],
   "source": [
    "from scipy.sparse.linalg import LinearOperator\n",
    "L = LinearOperator(pagerank_G1.shape, matvec=lambda x, A=pagerank_G1, d=0.85: pagerank_matvec(A, d, x))"
   ]
  },
  {
   "cell_type": "markdown",
   "metadata": {},
   "source": [
    "### 2.12"
   ]
  },
  {
   "cell_type": "code",
   "execution_count": 14,
   "metadata": {},
   "outputs": [
    {
     "data": {
      "application/vnd.jupyter.widget-view+json": {
       "model_id": "7e16e0ce63b048369c63ea2e315eac5e",
       "version_major": 2,
       "version_minor": 0
      },
      "text/plain": [
       "HBox(children=(FloatProgress(value=0.0, max=20.0), HTML(value='')))"
      ]
     },
     "metadata": {},
     "output_type": "display_data"
    },
    {
     "name": "stdout",
     "output_type": "stream",
     "text": [
      "\n"
     ]
    }
   ],
   "source": [
    "x, l, res = power_method(L, np.ones(pagerank_G1.shape[0]), 20)"
   ]
  },
  {
   "cell_type": "code",
   "execution_count": 17,
   "metadata": {},
   "outputs": [
    {
     "data": {
      "image/png": "[encoded data removed]",
      "text/plain": [
       "<Figure size 720x504 with 1 Axes>"
      ]
     },
     "metadata": {
      "needs_background": "light"
     },
     "output_type": "display_data"
    }
   ],
   "source": [
    "plt.figure(figsize=(10, 7))\n",
    "plt.plot(range(len(res)), res)\n",
    "plt.title('Residuals by iteration')\n",
    "plt.ylabel('Residuals')\n",
    "plt.xlabel('$k$, number of iteration')\n",
    "plt.yscale('log')\n",
    "plt.grid();"
   ]
  },
  {
   "cell_type": "markdown",
   "metadata": {},
   "source": [
    "### 2.13"
   ]
  },
  {
   "cell_type": "code",
   "execution_count": 19,
   "metadata": {},
   "outputs": [
    {
     "data": {
      "text/plain": [
       "array(['David E. Goldberg', 'Richard M. Karp', 'John E. Hopcroft',\n",
       "       'Azriel Rosenfeld', 'Ronald L. Rivest', 'Anil K. Jain',\n",
       "       'Takeo Kanade', 'Alfred V. Aho', 'Robert Endre Tarjan',\n",
       "       'Gerard Salton'], dtype='<U98')"
      ]
     },
     "execution_count": 19,
     "metadata": {},
     "output_type": "execute_result"
    }
   ],
   "source": [
    "pagerank_top10_cited_author_ids = sorted(list(zip(np.arange(x.shape[0]), x)), key=lambda y: y[1])[-10:]\n",
    "authors[np.array(pagerank_top10_cited_author_ids, dtype=int)[:, 0]][::-1]"
   ]
  },
  {
   "cell_type": "markdown",
   "metadata": {
    "id": "hQ2vaIyMOGI3"
   },
   "source": [
    "### 3. QR algorithm (10 pts)\n",
    "\n",
    "* Implement QR-algorithm without shifting. Prototype of the function is given below"
   ]
  },
  {
   "cell_type": "code",
   "execution_count": 45,
   "metadata": {
    "id": "rMHBZLojOGI3"
   },
   "outputs": [],
   "source": [
    "# INPUT: \n",
    "# A_init - square matrix, \n",
    "# num_iter - number of iterations for QR algorithm\n",
    "# OUTPUT: \n",
    "# Ak - transformed matrix A_init given by QR algorithm, \n",
    "# convergence - numpy array of shape (num_iter, ), \n",
    "# where we store the maximal number from the Chebyshev norm \n",
    "# of triangular part of the Ak for every iteration\n",
    "def qr_algorithm(A_init, num_iter): # 3 pts\n",
    "    # enter your code here\n",
    "    Ak = A_init\n",
    "    convergence = np.zeros(num_iter)\n",
    "    \n",
    "    for i in range(num_iter):\n",
    "        Q, R = np.linalg.qr(Ak)\n",
    "        Ak = R @ Q\n",
    "        convergence[i] = np.linalg.norm(np.tril(Ak, k=-1), np.inf)\n",
    "    \n",
    "    return Ak, convergence"
   ]
  },
  {
   "cell_type": "markdown",
   "metadata": {
    "id": "UNrCBNRUOGI6"
   },
   "source": [
    "#### Symmetric case (3 pts)\n",
    "- Create symmetric tridiagonal $11 \\times 11$ matrix with elements $-1, 2, -1$ on sub-, main- and upper diagonal respectively without using loops.\n",
    "- Run $400$ iterations of the QR algorithm for this matrix.\n",
    "- Plot the output matrix with function ```plt.spy(Ak, precision=1e-7)```.\n",
    "- Plot convergence of QR-algorithm."
   ]
  },
  {
   "cell_type": "code",
   "execution_count": 55,
   "metadata": {
    "id": "NuKwQGXbOGI6"
   },
   "outputs": [],
   "source": [
    "# Your solution is here\n",
    "ones = np.ones(11)\n",
    "symm_matr = np.diag(2*ones) + np.diag(-ones[1:], -1) + np.diag(-ones[1:], 1)\n",
    "\n",
    "Ak,convergence = qr_algorithm(symm_matr, 400)"
   ]
  },
  {
   "cell_type": "code",
   "execution_count": 56,
   "metadata": {},
   "outputs": [
    {
     "data": {
      "text/plain": [
       "<matplotlib.image.AxesImage at 0x7f18b0151fd0>"
      ]
     },
     "execution_count": 56,
     "metadata": {},
     "output_type": "execute_result"
    },
    {
     "data": {
      "image/png": "[encoded data removed]",
      "text/plain": [
       "<Figure size 432x288 with 1 Axes>"
      ]
     },
     "metadata": {
      "needs_background": "light"
     },
     "output_type": "display_data"
    }
   ],
   "source": [
    "plt.spy(Ak, precision=1e-7)"
   ]
  },
  {
   "cell_type": "code",
   "execution_count": 57,
   "metadata": {},
   "outputs": [
    {
     "data": {
      "image/png": "[encoded data removed]",
      "text/plain": [
       "<Figure size 432x288 with 1 Axes>"
      ]
     },
     "metadata": {
      "needs_background": "light"
     },
     "output_type": "display_data"
    }
   ],
   "source": [
    "plt.plot(np.arange(convergence.shape[0]), convergence)\n",
    "plt.xlabel('$k$, number of iteration')\n",
    "plt.ylabel('Chebyshev norm')\n",
    "plt.title('Convergence of QR-algorithm')\n",
    "plt.grid();"
   ]
  },
  {
   "cell_type": "markdown",
   "metadata": {
    "id": "-lomV2K-OGI8"
   },
   "source": [
    "#### Nonsymmetric case (4 pts)\n",
    "\n",
    "- Create nonsymmetric tridiagonal $11 \\times 11$ matrix with elements $5, 3, -2$ on sub-, main- and upper diagonal respectively without using loops.\n",
    "- Run $250$ iterations of the QR algorithm for this matrix.\n",
    "- Plot the result matrix with function ```plt.spy(Ak, precision=1e-7)```. Is this matrix lower triangular? How does this correspond to the claim about convergence of the QR algorithm?"
   ]
  },
  {
   "cell_type": "code",
   "execution_count": 60,
   "metadata": {
    "id": "C2lGBHjaOGI9"
   },
   "outputs": [],
   "source": [
    "# Your solution is here\n",
    "ones = np.ones(11)\n",
    "symm_matr = np.diag(3*ones) + np.diag(5*ones[1:], -1) + np.diag(-2*ones[1:], 1)\n",
    "\n",
    "Ak,convergence = qr_algorithm(symm_matr, 250)"
   ]
  },
  {
   "cell_type": "code",
   "execution_count": 61,
   "metadata": {},
   "outputs": [
    {
     "data": {
      "text/plain": [
       "<matplotlib.image.AxesImage at 0x7f1840abe4f0>"
      ]
     },
     "execution_count": 61,
     "metadata": {},
     "output_type": "execute_result"
    },
    {
     "data": {
      "image/png": "[encoded data removed]",
      "text/plain": [
       "<Figure size 432x288 with 1 Axes>"
      ]
     },
     "metadata": {
      "needs_background": "light"
     },
     "output_type": "display_data"
    }
   ],
   "source": [
    "plt.spy(Ak, precision=1e-7)"
   ]
  },
  {
   "cell_type": "markdown",
   "metadata": {},
   "source": [
    "No, the matrix is an upper triangular."
   ]
  },
  {
   "cell_type": "code",
   "execution_count": 62,
   "metadata": {},
   "outputs": [
    {
     "data": {
      "image/png": "[encoded data removed]",
      "text/plain": [
       "<Figure size 432x288 with 1 Axes>"
      ]
     },
     "metadata": {
      "needs_background": "light"
     },
     "output_type": "display_data"
    }
   ],
   "source": [
    "plt.plot(np.arange(convergence.shape[0]), convergence)\n",
    "plt.xlabel('$k$, number of iteration')\n",
    "plt.ylabel('Chebyshev norm')\n",
    "plt.title('Convergence of QR-algorithm')\n",
    "plt.grid();"
   ]
  },
  {
   "cell_type": "markdown",
   "metadata": {},
   "source": [
    "I haven't found any info how it corresponds to convergence of QR algorithm."
   ]
  },
  {
   "cell_type": "markdown",
   "metadata": {
    "id": "c_8OYe7wOGI-"
   },
   "source": [
    "## Problem 3. (Pseudo-Schur decomposition) 15 pts\n",
    "Let's redefine scalar product $ \\forall x, y \\in \\mathbb{C}^n$ in a following way:\n",
    "\n",
    "$$ [x,y]_J = y^{*}Jx, \\text{s.t.}\\ J = \\text{diag}(j_{11}, j_{22}, \\dots, j_{nn})\\ \\text{and}\\ j_{ii} = \\pm1\\ \\forall i \\in [1,n].$$\n",
    "\n",
    "Denote rows of matrix $V \\in \\mathbb{C}^{n \\times n}$ as $v_1, v_2, \\dots, v_n$. Then $V$ is called $\\textbf{J-orthonormal}$ iff \n",
    "\n",
    "$$[v_i, v_k]_J = \\pm \\delta_{ik}.$$\n",
    "\n",
    "We will call matrix $T \\in \\mathbb{C}^{n \\times n}$ $\\textbf{almost triangular}$ iff $T$ is upper triangular with diagonal blocks of order $1$ or $2$.\n",
    "\n",
    "Matrix $A \\in \\mathbb{C}^{n \\times n}$ is said to be $\\textbf{J-decomposable}$ if exist J-orthonormal matrix $V$ and upper triangular matrix $T$ such that \n",
    "\n",
    "\n",
    "$$A = V T V^{-1}.$$\n",
    "\n",
    "Matrix $A \\in \\mathbb{C}^{n \\times n}$ is said to have $\\textbf{pseudoschur J-decomposition}$ if exist J-orthonormal matrix $V$ and almost triangular matrix $T$ such that\n",
    "\n",
    "\n",
    "$$A = V T V^{-1}.$$\n",
    "\n",
    "This problem is to get familiar with the fact that two abovementioned decompositions exist not for any square matrix with complex entries.\n",
    "\n",
    "- (2 pts) $A$ has pseudoschur J-decomposition $A = V T V^{-1}, \\ \\text{where}\\ V = \\begin{bmatrix} v_1 & v_2 &  \\ldots & v_n \\end{bmatrix}, \\ T = \\begin{bmatrix} T_{ij} \\end{bmatrix}$ and $v_1$ is $\\textbf{not}$ an eigenvector of $A$. Show that $T_{21} \\ne 0$. \n",
    "\n",
    "\n",
    "\n",
    "- (5 pts) Given $J = \\text{diag}(1, -1)$ and $A = \\begin{bmatrix}\n",
    "3   \\ -1\\\\\n",
    "-1\\   \\ 3\\\\\n",
    "\\end{bmatrix}$, prove that $A$ is not J-decomposable.\n",
    "\n",
    "\n",
    "- (8 pts) Given that $A \\in \\mathbb{C}^{n \\times n}$ is diagonalizable, show that it has pseudoschur J-decomposition for any $J$ of form $J=\\text{diag}(\\pm 1, \\dots, \\pm 1)$.\n"
   ]
  },
  {
   "cell_type": "markdown",
   "metadata": {
    "id": "herV0xZ3OGJB"
   },
   "source": [
    "## Problem 4. (Skeleton decomposition) 28 pts\n",
    "\n",
    "The application that we are particularly interested in is\n",
    "the approximation of a given matrix by a low-rank matrix:\n",
    "\n",
    "$$ A \\approx UV^T, A \\in \\mathbb{R}^{m \\times n}, U \\in \\mathbb{R}^{m \\times r}, V \\in \\mathbb{R}^{n \\times r}.$$\n",
    "\n",
    "It is well known that the best (in any unitary invariant norm) low-rank approximation can be computed via singular value decomposition (SVD). As an alternative, we can consider skeleton decompostion of the form:\n",
    "\n",
    "$$A \\approx A_r = A(: , \\mathcal{J})A(\\mathcal{I} , \\mathcal{J})^{-1}A(\\mathcal{I} , :),$$\n",
    "where $\\mathcal{I,J}$ are some index sets of length $r$."
   ]
  },
  {
   "cell_type": "markdown",
   "metadata": {
    "id": "fK7v5oD4d6zR"
   },
   "source": [
    "Below we consider the matrix $N \\times N$ derived from the following function discretization in the uniform grid in square $[0, 1] \\times [0, 1]$:\n",
    "$ f(x, y) = \\exp(-\\sqrt{x^2 + y^2})$.\n",
    "It means that $A = [a_{ij}]$, where $a_{ij} = f(x_i, x_j)$ and $x_i = i / (N-1)$, $x_j = j / (N-1)$, where $i, j = 0,\\ldots, N-1$.\n",
    "\n",
    "- (2 pts) compose this matrix for $N = 5000$ without loops (Hint: function ```np.meshgrid``` can help you)\n"
   ]
  },
  {
   "cell_type": "code",
   "execution_count": 4,
   "metadata": {
    "id": "W6OvG8PJdenP"
   },
   "outputs": [
    {
     "data": {
      "text/plain": [
       "(5000, 5000)"
      ]
     },
     "execution_count": 4,
     "metadata": {},
     "output_type": "execute_result"
    }
   ],
   "source": [
    "# Your solution is here\n",
    "N = 5000\n",
    "x = np.linspace(0, 1, N) / (N - 1)\n",
    "x, y = np.meshgrid(x, x)\n",
    "\n",
    "A = np.exp(-np.sqrt(x**2 + y**2))\n",
    "A.shape"
   ]
  },
  {
   "cell_type": "markdown",
   "metadata": {
    "id": "Rj_OMuY7gvH9"
   },
   "source": [
    "- (3 pts) Compute Skeleton approximation with random selection of rows and columns indices for $r = 5$ (check that submatrix in the intersection of rows and columns is nonsingular). Average the relative error $\\frac{\\|A - A_r \\|_F}{\\|A\\|_F}$ over $M$ samples of column/row indices. Check that $M$ is sufficiently large to provide stable mean.\n",
    "\n",
    " Note: extracting submatrices should be done according to ```numpy```  e.g. ```A[index_set, :]``` to extract selected rows, ```A[:, index_set]``` to extract selected columns etc..\n"
   ]
  },
  {
   "cell_type": "code",
   "execution_count": 101,
   "metadata": {
    "id": "Qw4m6q0qjaSr"
   },
   "outputs": [],
   "source": [
    "# Your solution is here\n",
    "def easy_skeleton(A, r, max_iter=100):\n",
    "    N = A.shape[0]\n",
    "    for i in range(max_iter):\n",
    "        row_index_set = np.random.randint(0, N-1, r)\n",
    "        col_index_set = np.random.randint(0, N-1, r)\n",
    "\n",
    "        submatrix = A[np.ix_(row_index_set, col_index_set)]\n",
    "        try:\n",
    "            A_hat_inv = np.linalg.inv(submatrix)\n",
    "            break\n",
    "        except:\n",
    "            continue\n",
    "    \n",
    "    if i == max_iter-1:\n",
    "        raise Exception\n",
    "    else:\n",
    "        return A[:, col_index_set], A_hat_inv, A[row_index_set, :]"
   ]
  },
  {
   "cell_type": "code",
   "execution_count": 103,
   "metadata": {},
   "outputs": [
    {
     "data": {
      "application/vnd.jupyter.widget-view+json": {
       "model_id": "22a2147fda7747408d37287d8aba7e79",
       "version_major": 2,
       "version_minor": 0
      },
      "text/plain": [
       "HBox(children=(FloatProgress(value=0.0, max=1000.0), HTML(value='')))"
      ]
     },
     "metadata": {},
     "output_type": "display_data"
    },
    {
     "name": "stdout",
     "output_type": "stream",
     "text": [
      "\n"
     ]
    }
   ],
   "source": [
    "M = 1000\n",
    "relative_errors = np.zeros(M)\n",
    "for i in tqdm(range(M)):\n",
    "    C, A_hat_inv, R = easy_skeleton(A, 5)\n",
    "    relative_errors[i] = np.linalg.norm(A - C @ A_hat_inv @ R, 'fro') / np.linalg.norm(A, 'fro')"
   ]
  },
  {
   "cell_type": "code",
   "execution_count": 114,
   "metadata": {},
   "outputs": [
    {
     "data": {
      "image/png": "[encoded data removed]",
      "text/plain": [
       "<Figure size 432x288 with 1 Axes>"
      ]
     },
     "metadata": {
      "needs_background": "light"
     },
     "output_type": "display_data"
    }
   ],
   "source": [
    "plt.plot(np.arange(1, M+1), relative_errors)\n",
    "plt.xlabel('$M$, number of samples of column/row indices')\n",
    "plt.ylabel('Relative error')\n",
    "plt.title('Relative error by $M$')\n",
    "plt.grid();"
   ]
  },
  {
   "cell_type": "code",
   "execution_count": 112,
   "metadata": {},
   "outputs": [
    {
     "data": {
      "image/png": "[encoded data removed]",
      "text/plain": [
       "<Figure size 432x288 with 1 Axes>"
      ]
     },
     "metadata": {
      "needs_background": "light"
     },
     "output_type": "display_data"
    }
   ],
   "source": [
    "avg_relative_errors = np.cumsum(relative_errors) / np.arange(1, M+1)\n",
    "plt.plot(np.arange(1, M+1), avg_relative_errors)\n",
    "plt.xlabel('$M$, number of samples of column/row indices')\n",
    "plt.ylabel('Average relative error')\n",
    "plt.title('Average relative error by $M$')\n",
    "plt.grid();"
   ]
  },
  {
   "cell_type": "markdown",
   "metadata": {
    "id": "lwP2qdOCkTBo"
   },
   "source": [
    "As you should know from the lecture, if $A$ is of rank $r$ and $\\hat{A} = A(\\mathcal{I} , \\mathcal{J})$ is nonsingular, then the exact equality holds. In the approximate case, however, the quality of the approximation depends on the volume of the submatrix $\\hat{A}$: \n",
    "\n",
    "**Theorem**\n",
    "\n",
    "*If $\\hat{A} = A_{max}$ has maximal in modulus determinant among all $r \\times r$ submatrices of $A$, the following error etimate holds:*\n",
    "\n",
    "$$ \\|A - A_r\\|_1 \\leq (r+1)\\sigma_{r+1}.$$\n",
    "\n",
    "\n",
    "And the question is how to choose a good submatrix of nearly maximal volume in practice.\n",
    "\n",
    "**Definition**: *We call $r \\times r$ submatrix $A_{dom}$ of rectangular $n \\times r$ matrix $A$ of\n",
    "full rank dominant, if all the entries of $AA_{dom}^{-1}$ are not greater than $1$ in\n",
    "modulus.*\n",
    "\n",
    "The crucial theoretical result behind the scene is that the volume of any dominant submatrix $A_{dom}$ can not be very much smaller than the maximum volume submatrix $A_{max}$ (without proof).\n",
    "\n",
    "We provide the following algorithm for constructing dominant submatrix of a tall matrix.\n",
    "\n",
    "**Algorithm 1**: \n",
    "    \n",
    "Given matrix $A$ of size $n \\times r$ finds dominant submatrix of size $r \\times r$\n",
    "\n",
    "0. Start with arbitrary nonsingular $r \\times r$ submatrix $A_{dom}$. Reorder rows in $A$ so that $A_{dom}$ occupies first $r$ rows in $A$.\n",
    "\n",
    "1. Compute $B = AA_{dom}^{-1}$ and find its maximum in module  entry $b_{ij}$.\n",
    "\n",
    "2. **If $|b_{ij}| > 1 + \\delta$, then**:\n",
    "\n",
    "    Swap rows $i$ and $j$ in $B$ (accrodignly in A). By swapping the rows we have increased the volume of the upper submatrix in $B$, as well as in $A$ (why?). Let $A_{dom}$ be the new upper submatrix of $A$ and go to __step 1__.\n",
    "\n",
    "    **elseif $|b_{ij}| < 1 + \\delta$**:\n",
    "    \n",
    "    return $A_{dom}$.\n",
    "\n",
    "Note: $\\delta = 10^{-2}$ seems to be a good practical choice."
   ]
  },
  {
   "cell_type": "markdown",
   "metadata": {
    "id": "v68vVZrJnryX"
   },
   "source": [
    "- (10 pts) Implement algorithm 1 according to the following signature, where the function returns ```row_indices``` array which can be used as ```A[row_indices, :]``` to extract selected submatrix.\n",
    "\n",
    "Note that matrix inverse $A_{dom}^{-1}$ in step 1 has to be updated efficiently using [Shermann-Morison formula](https://en.wikipedia.org/wiki/Sherman%E2%80%93Morrison_formula) (inverse of rank-1 update)."
   ]
  },
  {
   "cell_type": "code",
   "execution_count": 22,
   "metadata": {
    "id": "YTSbyzAKkUEP"
   },
   "outputs": [],
   "source": [
    "def dominant_submatrix_search(A, delta=1e-2, max_iter=1e5, return_convergence=False):\n",
    "    # Your code is here\n",
    "    A_copy = np.copy(A)\n",
    "    N, r = A_copy.shape\n",
    "    convergence = []\n",
    "    \n",
    "    for n_iter in range(max_iter):\n",
    "        if n_iter == 0:\n",
    "            while True:\n",
    "                init_row_indices = np.random.randint(0, N-1, r)\n",
    "                all_row_indices = np.arange(N)\n",
    "\n",
    "                new_pos_inds = np.array(list(zip(all_row_indices, all_row_indices)))\n",
    "                new_pos_inds[init_row_indices, 1] = np.arange(r)\n",
    "                new_pos_inds[np.arange(r), 1] = init_row_indices\n",
    "\n",
    "                A_dom = A_copy[init_row_indices]\n",
    "                A_copy = A_copy[new_pos_inds[:, 1]]\n",
    "                try:\n",
    "                    A_dom_inv_init = np.linalg.inv(A_dom)\n",
    "                    break\n",
    "                except:\n",
    "                    continue\n",
    "            B = A_copy @ A_dom_inv_init\n",
    "        else:\n",
    "            u = np.zeros(r).reshape((r, 1))\n",
    "            u[j] = 1\n",
    "            v = (A_copy[i, :r] - A_copy[j, :r]).reshape((r, 1))\n",
    "            \n",
    "            A_dom_inv = A_dom_inv_init - (A_dom_inv_init @ u @ v.T @ A_dom_inv_init) / (1 + v.T @ A_dom_inv_init @ u)\n",
    "            B = A_copy @ A_dom_inv\n",
    "            \n",
    "        i, j = np.unravel_index(np.argmax(np.abs(B), axis=None), B.shape)\n",
    "        b_max = abs(B[i, j])\n",
    "        convergence.append(b_max)\n",
    "        \n",
    "        if b_max > 1 + delta:\n",
    "            B[i] = B[j]\n",
    "            A_copy[i] = A_copy[j]\n",
    "            \n",
    "            save_inds = new_pos_inds[i, 1]\n",
    "            new_pos_inds[i, 1] = new_pos_inds[j, 1]\n",
    "            new_pos_inds[j, 1] = save_inds\n",
    "            \n",
    "            A_dom = A_copy[:r]\n",
    "            \n",
    "            continue\n",
    "            \n",
    "        elif b_max < 1 + delta:\n",
    "            row_indices = sorted(list(zip(new_pos_inds[:, 0], new_pos_inds[:, 1])), key=lambda x: x[1])[:r]\n",
    "            if return_convergence:\n",
    "                return row_indices, convergence\n",
    "            else:\n",
    "                return row_indices\n",
    "\n",
    "    row_indices = np.array(sorted(list(zip(new_pos_inds[:, 0], new_pos_inds[:, 1])), key=lambda x: x[1])[:r])[:, 0]\n",
    "    \n",
    "    if return_convergence:\n",
    "        return row_indices, convergence\n",
    "    else:\n",
    "        return row_indices"
   ]
  },
  {
   "cell_type": "code",
   "execution_count": 23,
   "metadata": {
    "id": "0DGuKmqLoUAi"
   },
   "outputs": [],
   "source": [
    "# check the convergence of your implementation on random data\n",
    "row_indices, convergence = dominant_submatrix_search(np.random.rand(5000, 10), \n",
    "                                                     return_convergence=True, \n",
    "                                                     max_iter=10000)"
   ]
  },
  {
   "cell_type": "code",
   "execution_count": 24,
   "metadata": {},
   "outputs": [
    {
     "data": {
      "image/png": "[encoded data removed]",
      "text/plain": [
       "<Figure size 432x288 with 1 Axes>"
      ]
     },
     "metadata": {
      "needs_background": "light"
     },
     "output_type": "display_data"
    }
   ],
   "source": [
    "plt.plot(range(len(convergence)), convergence)\n",
    "plt.xlabel('Number of iteration')\n",
    "plt.ylabel('$b_{max}$')\n",
    "plt.title('$b_{max}$ convergence in dominant submatrix search')\n",
    "# plt.ylim([0, 10])\n",
    "plt.grid();"
   ]
  },
  {
   "cell_type": "markdown",
   "metadata": {
    "id": "zVIzSkvaqwDm"
   },
   "source": [
    "- (10 pts) Propose the method to construct Skeleton approximation using Algorithm 1. The signature of the function is provided below.  Compare your algorithm with previously considered random selection on the matrix $A$.\n",
    "\n",
    "Hint: \n",
    "\n",
    "1) start with random selection of columns \n",
    "\n",
    "2) if you transpose the matrix for which you find rows, then Algorithm 1 will give you update for columns in the initial matrix"
   ]
  },
  {
   "cell_type": "code",
   "execution_count": 25,
   "metadata": {
    "id": "AbJRXIJNrbNz"
   },
   "outputs": [],
   "source": [
    "def skeleton(A, r, max_iter=100):\n",
    "    # Your code is here\n",
    "    rand_columns_indices = np.random.randint(0, A.shape[1]-1, size=r)\n",
    "    \n",
    "    row_indices = dominant_submatrix_search(A[:, rand_columns_indices], max_iter=max_iter)\n",
    "    column_indices = dominant_submatrix_search(A[row_indices, :].T, max_iter=max_iter)\n",
    "    \n",
    "    return row_indices, column_indices"
   ]
  },
  {
   "cell_type": "markdown",
   "metadata": {
    "id": "hF8a5rTSs8Ie"
   },
   "source": [
    "- (3 pts) Compare your ```skeleton``` approximation algorithm with SVD and discuss its pros and cons."
   ]
  },
  {
   "cell_type": "code",
   "execution_count": 26,
   "metadata": {
    "id": "kgld0FW_r2xP"
   },
   "outputs": [
    {
     "name": "stdout",
     "output_type": "stream",
     "text": [
      "43.4 ms ± 3.48 ms per loop (mean ± std. dev. of 7 runs, 10 loops each)\n"
     ]
    }
   ],
   "source": [
    "# Your solution is here\n",
    "%timeit row_indices, col_indices = skeleton(A, 5)"
   ]
  },
  {
   "cell_type": "code",
   "execution_count": 27,
   "metadata": {},
   "outputs": [
    {
     "data": {
      "text/plain": [
       "0.0026227500771979903"
      ]
     },
     "execution_count": 27,
     "metadata": {},
     "output_type": "execute_result"
    }
   ],
   "source": [
    "row_indices, col_indices = skeleton(A, 5)\n",
    "np.linalg.norm(A - A[:, col_indices] @ np.linalg.inv(A[np.ix_(row_indices, col_indices)]) @ A[row_indices, :])"
   ]
  },
  {
   "cell_type": "code",
   "execution_count": 5,
   "metadata": {},
   "outputs": [
    {
     "name": "stdout",
     "output_type": "stream",
     "text": [
      "CPU times: user 2min 27s, sys: 989 ms, total: 2min 28s\n",
      "Wall time: 1min 14s\n"
     ]
    }
   ],
   "source": [
    "%time u, s, v = np.linalg.svd(A)"
   ]
  },
  {
   "cell_type": "code",
   "execution_count": 6,
   "metadata": {},
   "outputs": [
    {
     "data": {
      "text/plain": [
       "3.797717112279655e-11"
      ]
     },
     "execution_count": 6,
     "metadata": {},
     "output_type": "execute_result"
    }
   ],
   "source": [
    "np.linalg.norm(A - (u * s) @ v)"
   ]
  },
  {
   "cell_type": "markdown",
   "metadata": {},
   "source": [
    "On the one hand, Skeleton decomposition seems to be a much faster, than SVD. On the other hand, SVD has a lower error."
   ]
  }
 ],
 "metadata": {
  "colab": {
   "collapsed_sections": [],
   "name": "PS2.ipynb",
   "provenance": []
  },
  "kernelspec": {
   "display_name": "Python 3",
   "language": "python",
   "name": "python3"
  },
  "language_info": {
   "codemirror_mode": {
    "name": "ipython",
    "version": 3
   },
   "file_extension": ".py",
   "mimetype": "text/x-python",
   "name": "python",
   "nbconvert_exporter": "python",
   "pygments_lexer": "ipython3",
   "version": "3.8.3"
  }
 },
 "nbformat": 4,
 "nbformat_minor": 1
}
